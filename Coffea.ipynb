{
 "cells": [
  {
   "cell_type": "code",
   "execution_count": 236,
   "id": "d4fe4d3c",
   "metadata": {},
   "outputs": [],
   "source": [
    "import awkward as ak\n",
    "from coffea.nanoevents import NanoEventsFactory, NanoAODSchema, BaseSchema\n",
    "\n",
    "fname = \"GG_Skim.root\" #/hdfs/store/user/kaho/NanoPost1/SingleMuon/SingleMuon_Run2017C-UL2017/210727_235847/0000/tree_50.root\"\n",
    "events = NanoEventsFactory.from_root(fname, schemaclass=NanoAODSchema).events()"
   ]
  },
  {
   "cell_type": "code",
   "execution_count": 237,
   "id": "aa39620c",
   "metadata": {},
   "outputs": [],
   "source": [
    "#Choice em channel and Iso27\n",
    "emevents = events[(events.channel == 0) & (events.HLT.IsoMu27 == 1)]\n",
    "\n",
    "E_collections = emevents.Electron\n",
    "M_collections = emevents.Muon\n",
    "\n",
    "#Kinematics Selections\n",
    "emevents[\"Electron\", \"Target\"] = ((E_collections.pt > 24) & (abs(E_collections.eta) < 2.5) & (abs(E_collections.dxy) < 0.045) & (abs(E_collections.dz) < 0.2) & (E_collections.convVeto) & (E_collections.mvaFall17V2noIso_WP80) & (E_collections.miniPFRelIso_all < 0.1))\n",
    "emevents[\"Muon\", \"Target\"] = ((M_collections.pt > 29) & (abs(M_collections.eta) < 2.4) & (abs(M_collections.dxy) < 0.045) & (abs(M_collections.dz) < 0.2) & (M_collections.tightId) & (M_collections.pfRelIso04_all < 0.15))\n",
    "\n",
    "E_collections = emevents.Electron[emevents.Electron.Target==1]\n",
    "M_collections = emevents.Muon[emevents.Muon.Target==1]\n",
    "\n",
    "#Opposite Charge\n",
    "E_charge = ak.fill_none(ak.pad_none(E_collections.charge, 1), 0)\n",
    "M_charge = ak.fill_none(ak.pad_none(M_collections.charge, 1), 0)\n",
    "opp_charge = ak.flatten(E_charge*M_charge==-1)\n",
    "\n",
    "emevents = emevents[opp_charge]\n",
    "\n",
    "#Trig Matching\n",
    "M_collections = emevents.Muon\n",
    "trg_collections = emevents.TrigObj\n",
    "\n",
    "M_collections = M_collections[M_collections.Target==1]\n",
    "trg_collections = trg_collections[(((trg_collections.filterBits >> 1) & 1)==1) & (trg_collections.id == 13) & (trg_collections.pt > 29) & (ak.num(M_collections) == 1)]\n",
    "\n",
    "trg_Match = ak.any((M_collections[:,0].delta_r(trg_collections) < 0.5),1)\n",
    "emevents = emevents[trg_Match]\n",
    "\n",
    "emu = emevents.Muon[:,0] + emevents.Electron[:,0]\n"
   ]
  },
  {
   "cell_type": "code",
   "execution_count": 238,
   "id": "371c365c",
   "metadata": {},
   "outputs": [],
   "source": [
    "del events\n",
    "del emevents\n",
    "del emu"
   ]
  },
  {
   "cell_type": "code",
   "execution_count": 239,
   "id": "8d11275c",
   "metadata": {},
   "outputs": [],
   "source": [
    "from coffea import processor, hist\n",
    "import numpy\n",
    "class MyEMuPeak(processor.ProcessorABC):\n",
    "    def __init__(self):\n",
    "        self._histo = hist.Hist(\n",
    "            \"Events\",\n",
    "            hist.Cat(\"dataset\", \"samples\"),\n",
    "            hist.Bin(\"mass\", \"e_mu mass\", 50, 110, 160),\n",
    "        )\n",
    "\n",
    "    @property\n",
    "    def accumulator(self):\n",
    "        return self._histo\n",
    "    \n",
    "    def Vetos(self, events):\n",
    "        #Choice em channel and Iso27\n",
    "        emevents = events[(events.channel == 0) & (events.HLT.IsoMu27 == 1)]\n",
    "\n",
    "        E_collections = emevents.Electron\n",
    "        M_collections = emevents.Muon\n",
    "\n",
    "        #Kinematics Selections\n",
    "        emevents[\"Electron\", \"Target\"] = ((E_collections.pt > 24) & (abs(E_collections.eta) < 2.5) & (abs(E_collections.dxy) < 0.045) & (abs(E_collections.dz) < 0.2) & (E_collections.convVeto) & (E_collections.mvaFall17V2noIso_WP80) & (E_collections.miniPFRelIso_all < 0.1))\n",
    "        emevents[\"Muon\", \"Target\"] = ((M_collections.pt > 29) & (abs(M_collections.eta) < 2.4) & (abs(M_collections.dxy) < 0.045) & (abs(M_collections.dz) < 0.2) & (M_collections.tightId) & (M_collections.pfRelIso04_all < 0.15))\n",
    "\n",
    "        E_collections = emevents.Electron[emevents.Electron.Target==1]\n",
    "        M_collections = emevents.Muon[emevents.Muon.Target==1]\n",
    "\n",
    "        #Opposite Charge\n",
    "        E_charge = ak.fill_none(ak.pad_none(E_collections.charge, 1), 0)\n",
    "        M_charge = ak.fill_none(ak.pad_none(M_collections.charge, 1), 0)\n",
    "        opp_charge = ak.flatten(E_charge*M_charge==-1)\n",
    "\n",
    "        emevents = emevents[opp_charge]\n",
    "\n",
    "        #Trig Matching\n",
    "        M_collections = emevents.Muon\n",
    "        trg_collections = emevents.TrigObj\n",
    "\n",
    "        M_collections = M_collections[M_collections.Target==1]\n",
    "        trg_collections = trg_collections[(((trg_collections.filterBits >> 1) & 1)==1) & (trg_collections.id == 13) & (trg_collections.pt > 29) & (ak.num(M_collections) == 1)]\n",
    "\n",
    "        trg_Match = ak.any((M_collections[:,0].delta_r(trg_collections) < 0.5),1)\n",
    "\n",
    "        return emevents[trg_Match]\n",
    "        \n",
    "    # we will receive a NanoEvents instead of a coffea DataFrame\n",
    "    def process(self, events):\n",
    "        out = self.accumulator.identity()\n",
    "        emevents = self.Vetos(events)\n",
    "        emu = emevents.Muon[:,0] + emevents.Electron[:,0]\n",
    "        out.fill(\n",
    "            dataset=events.metadata[\"dataset\"],\n",
    "            mass=emu.mass, #emuevents.emMass,\n",
    "            #weight=numpy.ones(len(emu.mass))\n",
    "        )\n",
    "        return out\n",
    "\n",
    "    def postprocess(self, accumulator):\n",
    "        return accumulator"
   ]
  },
  {
   "cell_type": "code",
   "execution_count": 251,
   "id": "f9c83d06",
   "metadata": {},
   "outputs": [
    {
     "name": "stdout",
     "output_type": "stream",
     "text": [
      "Number of cores: 24\n"
     ]
    },
    {
     "data": {
      "application/vnd.jupyter.widget-view+json": {
       "model_id": "5f0f374dc9ef4e009e1ab7baf839aea8",
       "version_major": 2,
       "version_minor": 0
      },
      "text/plain": [
       "Processing:   0%|          | 0/358 [00:00<?, ?chunk/s]"
      ]
     },
     "metadata": {},
     "output_type": "display_data"
    },
    {
     "name": "stderr",
     "output_type": "stream",
     "text": [
      "/afs/hep.wisc.edu/user/kaho/NDHiggs/columnar/lib64/python3.6/site-packages/awkward/_util.py:347: ResourceWarning: unclosed file <_io.BufferedRandom name='output.root'>\n",
      "  if not any(s is None for s in signature):\n",
      "/afs/hep.wisc.edu/user/kaho/NDHiggs/columnar/lib64/python3.6/site-packages/awkward/_connect/_numpy.py:181: RuntimeWarning: invalid value encountered in sqrt\n",
      "  *[nplike.asarray(x) for x in inputs], **kwargs\n",
      "/afs/hep.wisc.edu/user/kaho/NDHiggs/columnar/lib64/python3.6/site-packages/awkward/_connect/_numpy.py:181: RuntimeWarning: invalid value encountered in sqrt\n",
      "  *[nplike.asarray(x) for x in inputs], **kwargs\n"
     ]
    },
    {
     "name": "stdout",
     "output_type": "stream",
     "text": [
      "Elapsed time: 140.73315382003784\n"
     ]
    }
   ],
   "source": [
    "import glob\n",
    "import os\n",
    "import time\n",
    "ncpu = os.cpu_count()\n",
    "print (\"Number of cores: %i\"%ncpu)\n",
    "fsetGG = glob.glob('/hdfs/store/user/kaho/NanoPost1/GluGlu_LFV_HToEMu_M125_TuneCP5_13TeV_PSweights_powheg_pythia8/*/*/*/*root')\n",
    "fsetSigMu = glob.glob('/hdfs/store/user/kaho/NanoPost1/SingleMuon/*/*/*/*root')\n",
    "\n",
    "samples = {\n",
    "    \"GGToEMu\": fsetGG,\n",
    "    \"Single Mu\": fsetSigMu\n",
    "}\n",
    "\n",
    "t1_start = time.time()\n",
    "result = processor.run_uproot_job(\n",
    "    samples,\n",
    "    \"Events\",\n",
    "    MyEMuPeak(),\n",
    "    processor.futures_executor,\n",
    "    {\"schema\": NanoAODSchema, \"workers\": os.cpu_count()},\n",
    ")\n",
    "t1_stop = time.time()\n",
    "print(\"Elapsed time:\", t1_stop-t1_start)"
   ]
  },
  {
   "cell_type": "code",
   "execution_count": 252,
   "id": "59ce6f70",
   "metadata": {},
   "outputs": [
    {
     "data": {
      "text/plain": [
       "<AxesSubplot:xlabel='e_mu mass', ylabel='Events'>"
      ]
     },
     "execution_count": 252,
     "metadata": {},
     "output_type": "execute_result"
    },
    {
     "data": {
      "image/png": "[encoded data removed]",
      "text/plain": [
       "<Figure size 432x288 with 1 Axes>"
      ]
     },
     "metadata": {
      "needs_background": "light"
     },
     "output_type": "display_data"
    }
   ],
   "source": [
    "%matplotlib inline\n",
    "\n",
    "hist.plot1d(result)"
   ]
  },
  {
   "cell_type": "code",
   "execution_count": 253,
   "id": "6cdde835",
   "metadata": {},
   "outputs": [],
   "source": [
    "import uproot3\n",
    "fout = uproot3.recreate('output.root')\n",
    "a = result['Single Mu'].to_boost()\n",
    "b = (a.to_numpy()[0][0], a.to_numpy()[-1])\n",
    "fout['Single Mu'] = b\n",
    "#fout['Single Mu'].show()\n",
    "fout.close()"
   ]
  },
  {
   "cell_type": "code",
   "execution_count": 254,
   "id": "551cafcc",
   "metadata": {},
   "outputs": [
    {
     "name": "stdout",
     "output_type": "stream",
     "text": [
      "                 0                                                          1868\n",
      "                 +-------------------------------------------------------------+\n",
      "[-inf, 110) 0    |                                                             |\n",
      "[110, 111)  1779 |**********************************************************   |\n",
      "[111, 112)  1695 |*******************************************************      |\n",
      "[112, 113)  1677 |*******************************************************      |\n",
      "[113, 114)  1738 |*********************************************************    |\n",
      "[114, 115)  1674 |*******************************************************      |\n",
      "[115, 116)  1666 |******************************************************       |\n",
      "[116, 117)  1737 |*********************************************************    |\n",
      "[117, 118)  1615 |*****************************************************        |\n",
      "[118, 119)  1608 |*****************************************************        |\n",
      "[119, 120)  1661 |******************************************************       |\n",
      "[120, 121)  1562 |***************************************************          |\n",
      "[121, 122)  1614 |*****************************************************        |\n",
      "[122, 123)  1602 |****************************************************         |\n",
      "[123, 124)  1570 |***************************************************          |\n",
      "[124, 125)  1509 |*************************************************            |\n",
      "[125, 126)  1581 |****************************************************         |\n",
      "[126, 127)  1473 |************************************************             |\n",
      "[127, 128)  1447 |***********************************************              |\n",
      "[128, 129)  1492 |*************************************************            |\n",
      "[129, 130)  1381 |*********************************************                |\n",
      "[130, 131)  1456 |************************************************             |\n",
      "[131, 132)  1382 |*********************************************                |\n",
      "[132, 133)  1442 |***********************************************              |\n",
      "[133, 134)  1417 |**********************************************               |\n",
      "[134, 135)  1370 |*********************************************                |\n",
      "[135, 136)  1312 |*******************************************                  |\n",
      "[136, 137)  1224 |****************************************                     |\n",
      "[137, 138)  1259 |*****************************************                    |\n",
      "[138, 139)  1297 |******************************************                   |\n",
      "[139, 140)  1284 |******************************************                   |\n",
      "[140, 141)  1311 |*******************************************                  |\n",
      "[141, 142)  1256 |*****************************************                    |\n",
      "[142, 143)  1186 |***************************************                      |\n",
      "[143, 144)  1240 |****************************************                     |\n",
      "[144, 145)  1134 |*************************************                        |\n",
      "[145, 146)  1188 |***************************************                      |\n",
      "[146, 147)  1238 |****************************************                     |\n",
      "[147, 148)  1203 |***************************************                      |\n",
      "[148, 149)  1184 |***************************************                      |\n",
      "[149, 150)  1098 |************************************                         |\n",
      "[150, 151)  1168 |**************************************                       |\n",
      "[151, 152)  1136 |*************************************                        |\n",
      "[152, 153)  1087 |***********************************                          |\n",
      "[153, 154)  1089 |************************************                         |\n",
      "[154, 155)  1025 |*********************************                            |\n",
      "[155, 156)  1056 |**********************************                           |\n",
      "[156, 157)  1021 |*********************************                            |\n",
      "[157, 158)  968  |********************************                             |\n",
      "[158, 159)  974  |********************************                             |\n",
      "[159, 160)  944  |*******************************                              |\n",
      "[160, inf]  0    |                                                             |\n",
      "                 +-------------------------------------------------------------+\n"
     ]
    }
   ],
   "source": [
    "fout = uproot3.open('output.root')\n",
    "fout['Single Mu'].show()\n",
    "fout.close()"
   ]
  },
  {
   "cell_type": "code",
   "execution_count": null,
   "id": "9cea6340",
   "metadata": {},
   "outputs": [],
   "source": []
  },
  {
   "cell_type": "code",
   "execution_count": null,
   "id": "bdc62710",
   "metadata": {},
   "outputs": [],
   "source": []
  },
  {
   "cell_type": "code",
   "execution_count": null,
   "id": "5e2b3912",
   "metadata": {},
   "outputs": [],
   "source": []
  },
  {
   "cell_type": "code",
   "execution_count": null,
   "id": "cd85f6fe",
   "metadata": {},
   "outputs": [],
   "source": []
  }
 ],
 "metadata": {
  "kernelspec": {
   "display_name": "Python 3",
   "language": "python",
   "name": "python3"
  },
  "language_info": {
   "codemirror_mode": {
    "name": "ipython",
    "version": 3
   },
   "file_extension": ".py",
   "mimetype": "text/x-python",
   "name": "python",
   "nbconvert_exporter": "python",
   "pygments_lexer": "ipython3",
   "version": "3.6.8"
  }
 },
 "nbformat": 4,
 "nbformat_minor": 5
}
