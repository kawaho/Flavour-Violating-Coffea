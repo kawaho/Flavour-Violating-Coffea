{
 "cells": [
  {
   "cell_type": "code",
   "execution_count": 533,
   "id": "d4fe4d3c",
   "metadata": {},
   "outputs": [],
   "source": [
    "import awkward as ak\n",
    "from coffea.nanoevents import NanoEventsFactory, NanoAODSchema, BaseSchema\n",
    "\n",
    "fname = \"data2017_Skim.root\"\n",
    "events = NanoEventsFactory.from_root(fname, schemaclass=NanoAODSchema).events()"
   ]
  },
  {
   "cell_type": "code",
   "execution_count": 534,
   "id": "aa39620c",
   "metadata": {},
   "outputs": [],
   "source": [
    "#Choice em channel and Iso27\n",
    "emevents = events[(events.channel == 0) & (events.HLT.IsoMu27 == 1)]\n",
    "\n",
    "E_collections = emevents.Electron\n",
    "M_collections = emevents.Muon\n",
    "\n",
    "#Kinematics Selections\n",
    "emevents[\"Electron\", \"Target\"] = ((E_collections.pt > 24) & (abs(E_collections.eta) < 2.5) & (abs(E_collections.dxy) < 0.045) & (abs(E_collections.dz) < 0.2) & (E_collections.convVeto) & (E_collections.mvaFall17V2noIso_WP80) & (E_collections.miniPFRelIso_all < 0.1))\n",
    "emevents[\"Muon\", \"Target\"] = ((M_collections.pt > 29) & (abs(M_collections.eta) < 2.4) & (abs(M_collections.dxy) < 0.045) & (abs(M_collections.dz) < 0.2) & (M_collections.tightId) & (M_collections.pfRelIso04_all < 0.15))\n",
    "\n",
    "E_collections = emevents.Electron[emevents.Electron.Target==1]\n",
    "M_collections = emevents.Muon[emevents.Muon.Target==1]\n",
    "\n",
    "#Opposite Charge\n",
    "E_charge = ak.fill_none(ak.pad_none(E_collections.charge, 1), 0)\n",
    "M_charge = ak.fill_none(ak.pad_none(M_collections.charge, 1), 0)\n",
    "\n",
    "Opp_charge = ak.flatten(E_charge*M_charge==-1)\n",
    "\n",
    "emevents = emevents[Opp_charge]\n",
    "\n",
    "#Trig Matching\n",
    "M_collections = emevents.Muon\n",
    "trg_collections = emevents.TrigObj\n",
    "\n",
    "M_collections = M_collections[M_collections.Target==1]\n",
    "trg_collections = trg_collections[(((trg_collections.filterBits >> 1) & 1)==1) & (trg_collections.id == 13) & (trg_collections.pt > 29) & (ak.num(M_collections) == 1)]\n",
    "\n",
    "trg_Match = ak.flatten(M_collections[:,0].delta_r(trg_collections) < 0.5)\n",
    "\n",
    "emevents = emevents[trg_Match]\n",
    "emu = emevents.Muon[:,0] + emevents.Electron[:,0]"
   ]
  },
  {
   "cell_type": "code",
   "execution_count": 542,
   "id": "8d11275c",
   "metadata": {},
   "outputs": [],
   "source": [
    "from coffea import processor, hist\n",
    "import numpy\n",
    "class MyEMuPeak(processor.ProcessorABC):\n",
    "    def __init__(self):\n",
    "        self._histo = hist.Hist(\n",
    "            \"Events\",\n",
    "            hist.Cat(\"dataset\", \"samples\"),\n",
    "            hist.Bin(\"mass\", \"e_mu mass\", 50, 110, 160),\n",
    "        )\n",
    "\n",
    "    @property\n",
    "    def accumulator(self):\n",
    "        return self._histo\n",
    "    \n",
    "    def Vetos(self, events):\n",
    "        #Choice em channel and Iso27\n",
    "        emevents = events[(events.channel == 0) & (events.HLT.IsoMu27 == 1)]\n",
    "\n",
    "        E_collections = emevents.Electron\n",
    "        M_collections = emevents.Muon\n",
    "\n",
    "        #Kinematics Selections\n",
    "        emevents[\"Electron\", \"Target\"] = ((E_collections.pt > 24) & (abs(E_collections.eta) < 2.5) & (abs(E_collections.dxy) < 0.045) & (abs(E_collections.dz) < 0.2) & (E_collections.convVeto) & (E_collections.mvaFall17V2noIso_WP80) & (E_collections.miniPFRelIso_all < 0.1))\n",
    "        emevents[\"Muon\", \"Target\"] = ((M_collections.pt > 29) & (abs(M_collections.eta) < 2.4) & (abs(M_collections.dxy) < 0.045) & (abs(M_collections.dz) < 0.2) & (M_collections.tightId) & (M_collections.pfRelIso04_all < 0.15))\n",
    "\n",
    "        E_collections = emevents.Electron[emevents.Electron.Target==1]\n",
    "        M_collections = emevents.Muon[emevents.Muon.Target==1]\n",
    "\n",
    "        #Opposite Charge\n",
    "        E_charge = ak.fill_none(ak.pad_none(E_collections.charge, 1), 0)\n",
    "        M_charge = ak.fill_none(ak.pad_none(M_collections.charge, 1), 0)\n",
    "        Opp_charge = ak.flatten(E_charge*M_charge==-1)\n",
    "\n",
    "        emevents = emevents[Opp_charge]\n",
    "\n",
    "        #Trig Matching\n",
    "        M_collections = emevents.Muon\n",
    "        trg_collections = emevents.TrigObj\n",
    "\n",
    "        M_collections = M_collections[M_collections.Target==1]\n",
    "        trg_collections = trg_collections[(((trg_collections.filterBits >> 1) & 1)==1) & (trg_collections.id == 13) & (trg_collections.pt > 29) & (ak.num(M_collections) == 1)]\n",
    "\n",
    "        trg_Match = ak.flatten(M_collections[:,0].delta_r(trg_collections) < 0.5)\n",
    "\n",
    "        return emevents[trg_Match]\n",
    "        \n",
    "    # we will receive a NanoEvents instead of a coffea DataFrame\n",
    "    def process(self, events):\n",
    "        out = self.accumulator.identity()\n",
    "        emuevents = self.Vetos(events)\n",
    "        emu = emevents.Muon[:,0] + emevents.Electron[:,0]\n",
    "        out.fill(\n",
    "            dataset=events.metadata[\"dataset\"],\n",
    "            mass=emu.mass,\n",
    "            #weight=numpy.ones(len(emu.mass))\n",
    "        )\n",
    "        return out\n",
    "\n",
    "    def postprocess(self, accumulator):\n",
    "        return accumulator"
   ]
  },
  {
   "cell_type": "code",
   "execution_count": 543,
   "id": "f9c83d06",
   "metadata": {},
   "outputs": [
    {
     "name": "stdout",
     "output_type": "stream",
     "text": [
      "Number of cores: 24\n"
     ]
    },
    {
     "data": {
      "application/vnd.jupyter.widget-view+json": {
       "model_id": "7a4e607afb4a4e44a2b58419fa5141a1",
       "version_major": 2,
       "version_minor": 0
      },
      "text/plain": [
       "Processing:   0%|          | 0/1 [00:00<?, ?chunk/s]"
      ]
     },
     "metadata": {},
     "output_type": "display_data"
    },
    {
     "name": "stdout",
     "output_type": "stream",
     "text": [
      "Elapsed time: 3.4816335500000832\n"
     ]
    }
   ],
   "source": [
    "import glob\n",
    "import os\n",
    "from time import process_time\n",
    "ncpu = os.cpu_count()\n",
    "print (\"Number of cores: %i\"%ncpu)\n",
    "fsetGG = glob.glob('/hdfs/store/user/kaho/NanoPost1/GluGlu_LFV_HToEMu_M125_TuneCP5_13TeV_PSweights_powheg_pythia8/NanoTestPost1_GluGlu_LFV_HToEMu_M125/*/*/*root')\n",
    "fsetSigMu = glob.glob('/hdfs/store/user/kaho/NanoPost1/SingleMuon/*/*/*/*root')\n",
    "\n",
    "\n",
    "samples = {\n",
    "    #\"GGToEMu\": fset,\n",
    "    \"Single Mu\": [fname]\n",
    "}\n",
    "\n",
    "t1_start = process_time() \n",
    "result = processor.run_uproot_job(\n",
    "    samples,\n",
    "    \"Events\",\n",
    "    MyEMuPeak(),\n",
    "    processor.futures_executor,\n",
    "    {\"schema\": NanoAODSchema, \"workers\": os.cpu_count()},\n",
    ")\n",
    "t1_stop = process_time()\n",
    "print(\"Elapsed time:\", t1_stop-t1_start)"
   ]
  },
  {
   "cell_type": "code",
   "execution_count": 548,
   "id": "59ce6f70",
   "metadata": {},
   "outputs": [
    {
     "data": {
      "text/plain": [
       "<AxesSubplot:xlabel='e_mu mass', ylabel='Events'>"
      ]
     },
     "execution_count": 548,
     "metadata": {},
     "output_type": "execute_result"
    },
    {
     "data": {
      "image/png": "[encoded data removed]",
      "text/plain": [
       "<Figure size 432x288 with 1 Axes>"
      ]
     },
     "metadata": {
      "needs_background": "light"
     },
     "output_type": "display_data"
    }
   ],
   "source": [
    "%matplotlib inline\n",
    "\n",
    "hist.plot1d(result)"
   ]
  },
  {
   "cell_type": "code",
   "execution_count": 549,
   "id": "6cdde835",
   "metadata": {},
   "outputs": [],
   "source": [
    "import uproot3\n",
    "fout = uproot3.recreate('output.root')\n",
    "a = result['Single Mu'].to_boost()\n",
    "b = (a.to_numpy()[0][0], a.to_numpy()[-1])\n",
    "fout['Single Mu'] = b\n",
    "#fout['Single Mu'].show()\n",
    "fout.close()"
   ]
  },
  {
   "cell_type": "code",
   "execution_count": 556,
   "id": "551cafcc",
   "metadata": {},
   "outputs": [],
   "source": [
    "fout = uproot3.open('output.root')\n",
    "#fout['Single Mu'].show()\n",
    "fout.close()"
   ]
  },
  {
   "cell_type": "code",
   "execution_count": null,
   "id": "9cea6340",
   "metadata": {},
   "outputs": [],
   "source": []
  },
  {
   "cell_type": "code",
   "execution_count": null,
   "id": "bdc62710",
   "metadata": {},
   "outputs": [],
   "source": []
  },
  {
   "cell_type": "code",
   "execution_count": null,
   "id": "5e2b3912",
   "metadata": {},
   "outputs": [],
   "source": []
  },
  {
   "cell_type": "code",
   "execution_count": null,
   "id": "cd85f6fe",
   "metadata": {},
   "outputs": [],
   "source": []
  }
 ],
 "metadata": {
  "kernelspec": {
   "display_name": "Python 3",
   "language": "python",
   "name": "python3"
  },
  "language_info": {
   "codemirror_mode": {
    "name": "ipython",
    "version": 3
   },
   "file_extension": ".py",
   "mimetype": "text/x-python",
   "name": "python",
   "nbconvert_exporter": "python",
   "pygments_lexer": "ipython3",
   "version": "3.6.8"
  }
 },
 "nbformat": 4,
 "nbformat_minor": 5
}
