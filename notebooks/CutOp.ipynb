{
 "cells": [
  {
   "cell_type": "code",
   "execution_count": 101,
   "metadata": {},
   "outputs": [],
   "source": [
    "import math\n",
    "def AMS(s, b):\n",
    "    return round(math.sqrt(2*((s+b)*math.log(1+s/b)-s)),3)\n",
    "def percentage(a,b): return round(abs((a-b)*100/(a+b)),3)"
   ]
  },
  {
   "cell_type": "code",
   "execution_count": 91,
   "metadata": {},
   "outputs": [
    {
     "name": "stdout",
     "output_type": "stream",
     "text": [
      "output_test_data.coffea     output_test_ewk.coffea     output_test_st.coffea\r\n",
      "output_test_diboson.coffea  output_test_higgs.coffea   output_test_tt.coffea\r\n",
      "output_test_dy.coffea\t    output_test_signal.coffea  output_test_wjets.coffea\r\n"
     ]
    }
   ],
   "source": [
    "!ls ../results/2018/makeSimple_DF"
   ]
  },
  {
   "cell_type": "code",
   "execution_count": 115,
   "metadata": {},
   "outputs": [
    {
     "name": "stdout",
     "output_type": "stream",
     "text": [
      "Processing 2016preVFP\n",
      "Processing 2017\n",
      "Processing 2016postVFP\n",
      "Processing 2018\n"
     ]
    }
   ],
   "source": [
    "from coffea.util import load\n",
    "import numpy as np\n",
    "import pandas as pd\n",
    "import glob, os, json, argparse\n",
    "years = ['2016preVFP', '2017', '2016postVFP','2018']\n",
    "var_dict = [{}, {}, {}]\n",
    "df = []\n",
    "for year in years:\n",
    "    print(f'Processing {year}')\n",
    "    for subsample in ['signal','diboson','tt','st','dy','wjets','higgs','ewk']: #'data',\n",
    "        result = load(f\"../results/{year}/makeSimple_DF/output_test_{subsample}.coffea\")\n",
    "        if isinstance(result,tuple):\n",
    "            result = result[0]\n",
    "        for varName in result:\n",
    "            for i in range(3):\n",
    "                if f'{i}jets' in varName:\n",
    "                    if varName.replace(f'_{i}jets','') in var_dict[i]:\n",
    "                        var_dict[i][varName.replace(f'_{i}jets','')] = np.append(var_dict[i][varName.replace(f'_{i}jets','')],result[varName].value)\n",
    "                    else:\n",
    "                        var_dict[i][varName.replace(f'_{i}jets','')] = result[varName].value\n",
    "for i in range(3):\n",
    "    df.append(pd.DataFrame(var_dict[i]))\n",
    "data_cuts_os = pd.concat([df[i] for i in range(3)], axis=0, ignore_index=True)"
   ]
  },
  {
   "cell_type": "code",
   "execution_count": 116,
   "metadata": {},
   "outputs": [],
   "source": [
    "samples = ['data', 'GluGlu_LFV_HToEMu_M125', 'VBF_LFV_HToEMu_M125', 'TTTo2L2Nu', 'ZZ_TuneCP5', 'WZ_TuneCP5', 'WW_TuneCP5', 'DYJetsToLL_M-50', 'DYJetsToLL_M-10to50', 'WGToLNuG_TuneCP5', 'TTToSemiLeptonic', 'TTToHadronic', 'ST_tW_antitop_5f_inclusiveDecays', 'ST_tW_top_5f_inclusiveDecays', 'ST_t-channel_antitop_4f_InclusiveDecays', 'ST_t-channel_top_4f_InclusiveDecays', 'EWKZ2Jets_ZToLL', 'EWKZ2Jets_ZToNuNu', 'EWKWMinus2Jets', 'EWKWPlus2Jets', 'GluGluHToTauTau', 'VBFHToTauTau', 'WminusHToTauTau', 'WplusHToTauTau', 'GluGluHToWWTo2L2Nu', 'VBFHToWWTo2L2Nu', 'ZHToTauTau', 'WJetsToLNu_TuneCP5']\n",
    "[samples.index(i) for i in samples if 'TT' in i]\n",
    "data_cuts_os.loc[((data_cuts_os['sample']==3) | (data_cuts_os['sample']==10) | (data_cuts_os['sample']==11)), ['weight']] *= 1.0711607711238926"
   ]
  },
  {
   "cell_type": "code",
   "execution_count": 117,
   "metadata": {},
   "outputs": [
    {
     "name": "stdout",
     "output_type": "stream",
     "text": [
      "20 0.959 138 20715\n",
      "21 0.96 138 20581\n",
      "22 0.961 138 20429\n",
      "23 0.962 137 20266\n",
      "24 0.963 137 20101\n",
      "25 0.964 136 19931\n",
      "26 0.964 136 19749\n",
      "27 0.965 135 19557\n",
      "28 0.965 134 19350\n",
      "29 0.965 134 19129\n",
      "30 0.966 133 18884\n"
     ]
    }
   ],
   "source": [
    "data_m = data_cuts_os[data_cuts_os.mtrigger.eq(1)]\n",
    "for pt in range(20,31):\n",
    "    bkg = data_m[data_m.ept.gt(pt) & data_m.label.eq(0)]['weight'].sum()\n",
    "    sig = data_m[data_m.ept.gt(pt) & data_m.label.eq(1)]['weight'].sum()\n",
    "    print(pt, AMS(sig*0.0059, bkg), round(sig*0.0059), round(bkg))"
   ]
  },
  {
   "cell_type": "code",
   "execution_count": 107,
   "metadata": {},
   "outputs": [
    {
     "name": "stdout",
     "output_type": "stream",
     "text": [
      "bkg 20100.653502799418 23454.67450137778 7.701\n",
      "sig 136.68773354052857 149.74823727980936 4.56\n",
      "m 0.963\n",
      "em 0.977\n",
      "0.722\n"
     ]
    }
   ],
   "source": [
    "data_em = data_cuts_os[(data_cuts_os.etrigger.eq(1) & data_cuts_os.mpt.gt(15))|(data_cuts_os.mtrigger.eq(1) & data_cuts_os.ept.gt(24))]\n",
    "data_m = data_cuts_os[data_cuts_os.mtrigger.eq(1) & data_cuts_os.ept.gt(24)]\n",
    "totalbkg_m, totalbkg_em = data_m[data_m.label.eq(0)]['weight'].sum(), data_em[data_em.label.eq(0)]['weight'].sum()\n",
    "totalsig_m, totalsig_em = data_m[data_m.label.eq(1)]['weight'].sum(), data_em[data_em.label.eq(1)]['weight'].sum()\n",
    "print('bkg', totalbkg_m, totalbkg_em, percentage(totalbkg_m, totalbkg_em))\n",
    "print('sig', totalsig_m*0.0059, totalsig_em*0.0059, percentage(totalsig_m, totalsig_em))\n",
    "print('m', AMS(totalsig_m*0.0059, totalbkg_m))\n",
    "print('em', AMS(totalsig_em*0.0059, totalbkg_em))\n",
    "print(percentage(AMS(totalsig_m*0.0059, totalbkg_m), AMS(totalsig_em*0.0059, totalbkg_em)))"
   ]
  },
  {
   "cell_type": "code",
   "execution_count": null,
   "metadata": {},
   "outputs": [],
   "source": []
  }
 ],
 "metadata": {
  "kernelspec": {
   "display_name": "my-coffea-env",
   "language": "python",
   "name": "my-coffea-env"
  },
  "language_info": {
   "codemirror_mode": {
    "name": "ipython",
    "version": 3
   },
   "file_extension": ".py",
   "mimetype": "text/x-python",
   "name": "python",
   "nbconvert_exporter": "python",
   "pygments_lexer": "ipython3",
   "version": "3.9.7"
  }
 },
 "nbformat": 4,
 "nbformat_minor": 2
}
