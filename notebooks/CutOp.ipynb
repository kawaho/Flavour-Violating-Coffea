{
 "cells": [
  {
   "cell_type": "code",
   "execution_count": 5,
   "metadata": {},
   "outputs": [],
   "source": [
    "import math\n",
    "def AMS(s, b):\n",
    "    return round(math.sqrt(2*((s+b)*math.log(1+s/b)-s)),3)\n",
    "def percentage(a,b): return round(abs(2*(a-b)*100/(a+b)),3)"
   ]
  },
  {
   "cell_type": "code",
   "execution_count": 8,
   "metadata": {},
   "outputs": [
    {
     "name": "stdout",
     "output_type": "stream",
     "text": [
      "5.576\n",
      "3.639\n",
      "2.955\n",
      "2.336\n",
      "0.998\n",
      "2.272\n"
     ]
    }
   ],
   "source": [
    "print(percentage(AMS(166, 36075+690+1511), AMS(145, 31110+1511)))\n",
    "print(percentage(AMS(389, 9062+349+758), AMS(351, 8144+758)))\n",
    "print(percentage(AMS(320, 3613+60+240), AMS(296, 3311+240)))\n",
    "print(percentage(AMS(590, 3632+46+184), AMS(549, 3316+184)))\n",
    "print(percentage(AMS(23, 114+6+17), AMS(21, 99+17)))\n",
    "print(percentage(AMS(21, 19+7), AMS(19, 15+7)))"
   ]
  },
  {
   "cell_type": "code",
   "execution_count": 2,
   "metadata": {},
   "outputs": [
    {
     "name": "stdout",
     "output_type": "stream",
     "text": [
      "output_test_data.coffea     output_test_signal.coffea\r\n",
      "output_test_diboson.coffea  output_test_st.coffea\r\n",
      "output_test_dy.coffea\t    output_test_tt.coffea\r\n",
      "output_test_ewk.coffea\t    output_test_wjets.coffea\r\n",
      "output_test_higgs.coffea    output_vanish_higgs.coffea\r\n"
     ]
    }
   ],
   "source": [
    "!ls ../results/2018/makeSimple_DF"
   ]
  },
  {
   "cell_type": "code",
   "execution_count": 34,
   "metadata": {},
   "outputs": [
    {
     "name": "stdout",
     "output_type": "stream",
     "text": [
      "Start loading df\n"
     ]
    }
   ],
   "source": [
    "import numpy as np\n",
    "import pandas as pd\n",
    "import glob, os, json, argparse\n",
    "filters = [('label', '!=', 3)]\n",
    "\n",
    "print(\"Start loading df\")\n",
    "#Load df\n",
    "data_gg = pd.read_parquet('../results/csv4BDT/makeDF_v9_signal_signalAlt_oc_gg_withyear.parquet', engine='pyarrow', columns=['weight','ept','mpt','label','sample','e_m_Mass',\"is2016preVFP\",\"is2016postVFP\",\"is2017\",\"is2018\"], filters=filters)\n",
    "data_vbf = pd.read_parquet('../results/csv4BDT/makeDF_v9_signal_signalAlt_oc_vbf_withyear.parquet', engine='pyarrow', columns=['weight','ept','mpt','sample','label','e_m_Mass',\"is2016preVFP\",\"is2016postVFP\",\"is2017\",\"is2018\"], filters=filters)"
   ]
  },
  {
   "cell_type": "code",
   "execution_count": 35,
   "metadata": {},
   "outputs": [],
   "source": [
    "data_cuts_os = pd.concat([data_gg, data_vbf])"
   ]
  },
  {
   "cell_type": "code",
   "execution_count": 41,
   "metadata": {},
   "outputs": [
    {
     "data": {
      "text/plain": [
       "sample\n",
       "1     23104.792947\n",
       "2      1613.063218\n",
       "4     24310.251699\n",
       "5      1640.052895\n",
       "6     21986.986005\n",
       "7      1593.432914\n",
       "32    23138.606911\n",
       "33     1746.570693\n",
       "34    17269.211170\n",
       "35     1588.180196\n",
       "36    15675.940592\n",
       "37     1520.847316\n",
       "38    14330.340859\n",
       "39     1452.219571\n",
       "Name: weight, dtype: float64"
      ]
     },
     "execution_count": 41,
     "metadata": {},
     "output_type": "execute_result"
    }
   ],
   "source": [
    "data_cuts_os[data_cuts_os.ept.gt(25)&data_cuts_os.mpt.gt(20)].groupby('sample')['weight'].sum()"
   ]
  },
  {
   "cell_type": "code",
   "execution_count": 39,
   "metadata": {},
   "outputs": [
    {
     "name": "stdout",
     "output_type": "stream",
     "text": [
      "['GluGlu_LFV_HToEMu_M125', 'VBF_LFV_HToEMu_M125', 'GluGlu_LFV_HToEMu_M120', 'VBF_LFV_HToEMu_M120', 'GluGlu_LFV_HToEMu_M130', 'VBF_LFV_HToEMu_M130', 'GluGlu_LFV_HToEMu_M110', 'VBF_LFV_HToEMu_M110', 'GluGlu_LFV_HToEMu_M140', 'VBF_LFV_HToEMu_M140', 'GluGlu_LFV_HToEMu_M150', 'VBF_LFV_HToEMu_M150', 'GluGlu_LFV_HToEMu_M160', 'VBF_LFV_HToEMu_M160']\n"
     ]
    }
   ],
   "source": [
    "import sys\n",
    "sys.path.append(\"/afs/crc.nd.edu/user/k/kho2/Flavour-Violating-Coffea/\")\n",
    "import find_samples\n",
    "find_samples.samples_to_run['makeDF']\n",
    "samples = find_samples.samples_to_run['makeDF']\n",
    "print([sample for sample in samples if 'LFV' in sample])"
   ]
  },
  {
   "cell_type": "code",
   "execution_count": 32,
   "metadata": {},
   "outputs": [
    {
     "name": "stdout",
     "output_type": "stream",
     "text": [
      "20 15 23847.4989331541\n",
      "25 15 23369.960618664263\n",
      "20 20 23616.145225959222\n",
      "25 20 23138.606911469404\n"
     ]
    }
   ],
   "source": [
    "data_m = data_cuts_os[data_cuts_os.label.eq(110)&data_cuts_os['sample'].eq(32)]\n",
    "mpts = [15, 20]\n",
    "epts = [20, 25]\n",
    "for mpt in mpts:\n",
    "    for ept in epts:\n",
    "        sig = data_m[data_m.ept.gt(ept) & data_m.mpt.gt(mpt)]['weight'].sum()\n",
    "        print(ept, mpt, sig)"
   ]
  },
  {
   "cell_type": "code",
   "execution_count": 33,
   "metadata": {},
   "outputs": [
    {
     "name": "stdout",
     "output_type": "stream",
     "text": [
      "20 15 24870.903934923765\n",
      "25 15 24495.343273025395\n",
      "20 20 24685.81236092693\n",
      "25 20 24310.251699028562\n"
     ]
    }
   ],
   "source": [
    "data_m = data_cuts_os[data_cuts_os.label.eq(120)&data_cuts_os['sample'].eq(4)]\n",
    "mpts = [15, 20]\n",
    "epts = [20, 25]\n",
    "for mpt in mpts:\n",
    "    for ept in epts:\n",
    "        sig = data_m[data_m.ept.gt(ept) & data_m.mpt.gt(mpt)]['weight'].sum()\n",
    "        print(ept, mpt, sig)"
   ]
  },
  {
   "cell_type": "code",
   "execution_count": 3,
   "metadata": {},
   "outputs": [
    {
     "data": {
      "text/plain": [
       "(sample\n",
       " 29        0.294980\n",
       " 15        1.071610\n",
       " 30        2.538464\n",
       " 28        4.893568\n",
       " 25        5.012859\n",
       " 31        5.423754\n",
       " 26        6.224572\n",
       " 27       10.027567\n",
       " 20       22.994946\n",
       " 22       44.434651\n",
       " 23       50.857373\n",
       " 8        92.729137\n",
       " 24      104.486854\n",
       " 18      112.437466\n",
       " 19      168.184845\n",
       " 14      582.636000\n",
       " 13     1105.648756\n",
       " 9      1332.364219\n",
       " 16     4464.098169\n",
       " 17     4466.070991\n",
       " 11     5492.002779\n",
       " 3     36674.972049\n",
       " 10    39587.482213\n",
       " Name: weight, dtype: float64,\n",
       " sample\n",
       " 29     0.000313\n",
       " 15     0.001136\n",
       " 30     0.002691\n",
       " 28     0.005187\n",
       " 25     0.005314\n",
       " 31     0.005749\n",
       " 26     0.006598\n",
       " 27     0.010630\n",
       " 20     0.024375\n",
       " 22     0.047102\n",
       " 23     0.053910\n",
       " 8      0.098296\n",
       " 24     0.110759\n",
       " 18     0.119187\n",
       " 19     0.178281\n",
       " 14     0.617612\n",
       " 13     1.172022\n",
       " 9      1.412347\n",
       " 16     4.732081\n",
       " 17     4.734172\n",
       " 11     5.821692\n",
       " 3     38.876597\n",
       " 10    41.963948\n",
       " Name: weight, dtype: float64)"
      ]
     },
     "execution_count": 3,
     "metadata": {},
     "output_type": "execute_result"
    }
   ],
   "source": [
    "weight_list_gg = data_gg[data_gg['label'].eq(0)].groupby('sample')['weight'].sum().sort_values()\n",
    "weight_list_gg, weight_list_gg*100 / data_gg[data_gg['label'].eq(0)]['weight'].sum()"
   ]
  },
  {
   "cell_type": "code",
   "execution_count": 4,
   "metadata": {},
   "outputs": [
    {
     "data": {
      "text/plain": [
       "(sample\n",
       " 30       0.059642\n",
       " 15       0.094240\n",
       " 26       0.099994\n",
       " 28       0.100178\n",
       " 29       0.145423\n",
       " 27       0.192730\n",
       " 31       0.405960\n",
       " 8        1.197483\n",
       " 24       1.797822\n",
       " 25       2.573038\n",
       " 20       3.147606\n",
       " 22       4.142991\n",
       " 18       5.681396\n",
       " 23       7.617579\n",
       " 19      10.916016\n",
       " 13      21.511789\n",
       " 9       27.273035\n",
       " 14      42.278287\n",
       " 11      61.688582\n",
       " 16     126.006742\n",
       " 17     128.347474\n",
       " 10     366.243272\n",
       " 3     2406.594977\n",
       " Name: weight, dtype: float64,\n",
       " sample\n",
       " 30     0.001853\n",
       " 15     0.002928\n",
       " 26     0.003107\n",
       " 28     0.003113\n",
       " 29     0.004519\n",
       " 27     0.005989\n",
       " 31     0.012615\n",
       " 8      0.037211\n",
       " 24     0.055866\n",
       " 25     0.079955\n",
       " 20     0.097809\n",
       " 22     0.128740\n",
       " 18     0.176544\n",
       " 23     0.236709\n",
       " 19     0.339205\n",
       " 13     0.668459\n",
       " 9      0.847484\n",
       " 14     1.313759\n",
       " 11     1.916916\n",
       " 16     3.915543\n",
       " 17     3.988280\n",
       " 10    11.380673\n",
       " 3     74.782723\n",
       " Name: weight, dtype: float64)"
      ]
     },
     "execution_count": 4,
     "metadata": {},
     "output_type": "execute_result"
    }
   ],
   "source": [
    "weight_list_vbf = data_vbf[data_vbf['label'].eq(0)].groupby('sample')['weight'].sum().sort_values()\n",
    "weight_list_vbf, weight_list_vbf*100 / data_vbf[data_vbf['label'].eq(0)]['weight'].sum()"
   ]
  },
  {
   "cell_type": "code",
   "execution_count": 2,
   "metadata": {},
   "outputs": [],
   "source": [
    "data_cuts_os = df[df.opp_charge.eq(1)&df.e_m_Mass.gt(110)&df.e_m_Mass.lt(160)].drop('opp_charge', axis=1, inplace=False)"
   ]
  },
  {
   "cell_type": "code",
   "execution_count": 9,
   "metadata": {},
   "outputs": [],
   "source": [
    "sigm = data_cuts_os[data_cuts_os.mtrigger.eq(1)&data_cuts_os.label.eq(1)]['weight'].sum()\n",
    "datam = data_cuts_os[data_cuts_os.mtrigger.eq(1)&data_cuts_os.label.eq(3)]['weight'].sum()\n",
    "sigem = data_cuts_os[data_cuts_os.label.eq(1)]['weight'].sum()\n",
    "dataem = data_cuts_os[data_cuts_os.label.eq(3)]['weight'].sum()"
   ]
  },
  {
   "cell_type": "code",
   "execution_count": 8,
   "metadata": {},
   "outputs": [
    {
     "data": {
      "text/plain": [
       "(96.158, 98.16)"
      ]
     },
     "execution_count": 8,
     "metadata": {},
     "output_type": "execute_result"
    }
   ],
   "source": [
    "AMS(sigm, datam), AMS(sigem, dataem)"
   ]
  },
  {
   "cell_type": "code",
   "execution_count": 10,
   "metadata": {},
   "outputs": [
    {
     "data": {
      "text/plain": [
       "(95.742, 97.236)"
      ]
     },
     "execution_count": 10,
     "metadata": {},
     "output_type": "execute_result"
    }
   ],
   "source": [
    "AMS(sigm, datam), AMS(sigem, dataem)"
   ]
  },
  {
   "cell_type": "code",
   "execution_count": null,
   "metadata": {},
   "outputs": [],
   "source": [
    "sigm = data_cuts_os[data_cuts_os.mtrigger.eq(1)&data_cuts_os.label.eq(1)&data_cuts_os.ept.gt(25)&data_cuts_os.mpt.gt(20)]['weight'].sum()\n",
    "datam = data_cuts_os[data_cuts_os.mtrigger.eq(1)&data_cuts_os.label.eq(3)&data_cuts_os.ept.gt(25)&data_cuts_os.mpt.gt(20)]['weight'].sum()\n",
    "sigem = data_cuts_os[data_cuts_os.label.eq(1)&data_cuts_os.ept.gt(25)&data_cuts_os.mpt.gt(20)]['weight'].sum()\n",
    "dataem = data_cuts_os[data_cuts_os.label.eq(3)&data_cuts_os.ept.gt(25)&data_cuts_os.mpt.gt(20)]['weight'].sum()"
   ]
  },
  {
   "cell_type": "code",
   "execution_count": 7,
   "metadata": {},
   "outputs": [
    {
     "name": "stdout",
     "output_type": "stream",
     "text": [
      "26927.0 887.2420973088041 17477.0 411.7384370213522 12946.0 197.38583053200244\n"
     ]
    }
   ],
   "source": [
    "print (otherevents[otherevents.label.eq(3) & otherevents.njets.eq(0)]['weight'].sum(),\n",
    "otherevents[otherevents.label.eq(1) & otherevents.njets.eq(0)]['weight'].sum()*5.9*10e-3,\n",
    "otherevents[otherevents.label.eq(3) & otherevents.njets.eq(1)]['weight'].sum(),\n",
    "otherevents[otherevents.label.eq(1) & otherevents.njets.eq(1)]['weight'].sum()*5.9*10e-3,\n",
    "otherevents[otherevents.label.eq(3) & otherevents.njets.ge(2)]['weight'].sum(),\n",
    "otherevents[otherevents.label.eq(1) & otherevents.njets.ge(2)]['weight'].sum()*5.9*10e-3)"
   ]
  },
  {
   "cell_type": "code",
   "execution_count": 12,
   "metadata": {},
   "outputs": [
    {
     "data": {
      "text/plain": [
       "1496.366364862159"
      ]
     },
     "execution_count": 12,
     "metadata": {},
     "output_type": "execute_result"
    }
   ],
   "source": [
    "887.2420973088041+411.7384370213522+197.38583053200244"
   ]
  },
  {
   "cell_type": "code",
   "execution_count": 15,
   "metadata": {},
   "outputs": [
    {
     "data": {
      "text/plain": [
       "0.1319100957940772"
      ]
     },
     "execution_count": 15,
     "metadata": {},
     "output_type": "execute_result"
    }
   ],
   "source": [
    "197.38583053200244/1496.366364862159"
   ]
  },
  {
   "cell_type": "code",
   "execution_count": 40,
   "metadata": {},
   "outputs": [],
   "source": [
    "gap_events = data_cuts_os[(data_cuts_os.eEta.abs() < 1.566) & (data_cuts_os.eEta.abs() > 1.4442)]\n",
    "ebevents = data_cuts_os[(data_cuts_os.eEta.abs() < 1.4442)]\n",
    "eeevents = data_cuts_os[(data_cuts_os.eEta.abs() > 1.566)]"
   ]
  },
  {
   "cell_type": "code",
   "execution_count": 41,
   "metadata": {},
   "outputs": [],
   "source": [
    "fullsig, fullbkg = data_cuts_os[data_cuts_os.label==1]['weight'].sum(), data_cuts_os[data_cuts_os.label==0]['weight'].sum()"
   ]
  },
  {
   "cell_type": "code",
   "execution_count": 42,
   "metadata": {},
   "outputs": [],
   "source": [
    "gapsig, gapbkg = gap_events[gap_events.label==1]['weight'].sum(), gap_events[gap_events.label==0]['weight'].sum()"
   ]
  },
  {
   "cell_type": "code",
   "execution_count": 43,
   "metadata": {},
   "outputs": [
    {
     "data": {
      "text/plain": [
       "0.02667865665802667"
      ]
     },
     "execution_count": 43,
     "metadata": {},
     "output_type": "execute_result"
    }
   ],
   "source": [
    "gapsig/fullsig"
   ]
  },
  {
   "cell_type": "code",
   "execution_count": 44,
   "metadata": {},
   "outputs": [
    {
     "data": {
      "text/plain": [
       "1.3"
      ]
     },
     "execution_count": 44,
     "metadata": {},
     "output_type": "execute_result"
    }
   ],
   "source": [
    "percentage(AMS(fullsig, fullbkg), AMS(fullsig-gapsig, fullbkg-gapbkg))"
   ]
  },
  {
   "cell_type": "code",
   "execution_count": 9,
   "metadata": {},
   "outputs": [
    {
     "data": {
      "text/plain": [
       "Index(['sample', 'label', 'weight', 'njets', 'e_m_Mass', 'e_m_Mass_reso',\n",
       "       'met', 'eEta', 'mEta', 'mpt', 'ept', 'empt', 'emEta', 'DeltaEta_e_m',\n",
       "       'DeltaR_e_m', 'DeltaPhi_e_met', 'DeltaPhi_m_met', 'DeltaPhi_em_met',\n",
       "       'e_mvaTTH', 'm_mvaTTH', 'e_mvaFall17V2Iso', 'e_mvaFall17V2noIso',\n",
       "       'mtrigger', 'etrigger', 'j1pt', 'j1Eta', 'DeltaEta_j1_em',\n",
       "       'DeltaR_j1_em', 'isVBFcat', 'j2pt', 'j2Eta', 'j1_j2_mass',\n",
       "       'DeltaEta_em_j1j2', 'DeltaR_em_j1j2', 'DeltaEta_j2_em', 'DeltaR_j2_em',\n",
       "       'DeltaEta_j1_j2', 'DeltaR_j1_j2', 'Zeppenfeld_DeltaEta', 'Rpt',\n",
       "       'pt_cen_Deltapt', 'Ht_had'],\n",
       "      dtype='object')"
      ]
     },
     "execution_count": 9,
     "metadata": {},
     "output_type": "execute_result"
    }
   ],
   "source": [
    "otherevents.columns"
   ]
  },
  {
   "cell_type": "code",
   "execution_count": 53,
   "metadata": {},
   "outputs": [
    {
     "data": {
      "image/png": "[encoded data removed]",
      "text/plain": [
       "<Figure size 800x500 with 1 Axes>"
      ]
     },
     "metadata": {
      "needs_background": "light"
     },
     "output_type": "display_data"
    }
   ],
   "source": [
    "from coffea import hist\n",
    "h = hist.Hist(\"A.U.\", hist.Cat(\"dataset\", \"Signal Samples\"), hist.Bin('e_m_Mass', '$\\delta$ $m_{e\\mu}$ [GeV]', 50, 0, 8))\n",
    "h.fill(dataset = 'electron in gap', e_m_Mass = gap_events[gap_events.label==1].e_m_Mass_reso.to_numpy(), weight=gap_events[gap_events.label==1].weight.to_numpy())\n",
    "h.fill(dataset = 'electron in EB', e_m_Mass = ebevents[ebevents.label==1].e_m_Mass_reso.to_numpy(), weight=ebevents[ebevents.label==1].weight.to_numpy())\n",
    "h.fill(dataset = 'electron in EE', e_m_Mass = eeevents[eeevents.label==1].e_m_Mass_reso.to_numpy(), weight=eeevents[eeevents.label==1].weight.to_numpy())\n",
    "from matplotlib.pyplot import figure\n",
    "fig=figure(figsize=(8, 5), dpi=100)\n",
    "a = hist.plot1d(h, density=True)\n",
    "fig.savefig(f'../XGBoost-for-HtoEMu/plots/MCData/eSF/gapE_emMass_reso.png')"
   ]
  },
  {
   "cell_type": "code",
   "execution_count": 52,
   "metadata": {},
   "outputs": [
    {
     "data": {
      "image/png": "[encoded data removed]",
      "text/plain": [
       "<Figure size 800x500 with 1 Axes>"
      ]
     },
     "metadata": {
      "needs_background": "light"
     },
     "output_type": "display_data"
    }
   ],
   "source": [
    "from coffea import hist\n",
    "h = hist.Hist(\"A.U.\", hist.Cat(\"dataset\", \"Signal Samples\"), hist.Bin('e_m_Mass', '$m_{e\\mu}$ [GeV]', 50, 110, 140))\n",
    "h.fill(dataset = 'electron in gap', e_m_Mass = gap_events[gap_events.label==1].e_m_Mass.to_numpy(), weight=gap_events[gap_events.label==1].weight.to_numpy())\n",
    "h.fill(dataset = 'electron in EB', e_m_Mass = ebevents[ebevents.label==1].e_m_Mass.to_numpy(), weight=ebevents[ebevents.label==1].weight.to_numpy())\n",
    "h.fill(dataset = 'electron in EE', e_m_Mass = eeevents[eeevents.label==1].e_m_Mass.to_numpy(), weight=eeevents[eeevents.label==1].weight.to_numpy())\n",
    "from matplotlib.pyplot import figure\n",
    "fig = figure(figsize=(8, 5), dpi=100)\n",
    "a = hist.plot1d(h, density=True)\n",
    "fig.savefig(f'../XGBoost-for-HtoEMu/plots/MCData/eSF/gapE_emMass.png')"
   ]
  },
  {
   "cell_type": "code",
   "execution_count": 5,
   "metadata": {},
   "outputs": [],
   "source": [
    "data_cuts_os_gg = data_cuts_os[(data_cuts_os['sample']==1) & (data_cuts_os['njets']>=2)]\n",
    "data_cuts_os_vbf = data_cuts_os[(data_cuts_os['sample']==2) & (data_cuts_os['njets']>=2)]"
   ]
  },
  {
   "cell_type": "code",
   "execution_count": 19,
   "metadata": {},
   "outputs": [
    {
     "data": {
      "text/plain": [
       "637.9439244480118"
      ]
     },
     "execution_count": 19,
     "metadata": {},
     "output_type": "execute_result"
    }
   ],
   "source": [
    "data_cuts_os_vbf[data_cuts_os_vbf['j1_j2_mass'].gt(400) & data_cuts_os_vbf['DeltaEta_j1_j2'].gt(2.5)]['weight'].sum()"
   ]
  },
  {
   "cell_type": "code",
   "execution_count": 20,
   "metadata": {},
   "outputs": [
    {
     "data": {
      "text/plain": [
       "452.98694394926747"
      ]
     },
     "execution_count": 20,
     "metadata": {},
     "output_type": "execute_result"
    }
   ],
   "source": [
    "data_cuts_os_gg[data_cuts_os_gg['j1_j2_mass'].gt(400) & data_cuts_os_gg['DeltaEta_j1_j2'].gt(2.5)]['weight'].sum()"
   ]
  },
  {
   "cell_type": "code",
   "execution_count": 25,
   "metadata": {},
   "outputs": [
    {
     "data": {
      "image/png": "[encoded data removed]",
      "text/plain": [
       "<Figure size 800x500 with 1 Axes>"
      ]
     },
     "metadata": {
      "needs_background": "light"
     },
     "output_type": "display_data"
    }
   ],
   "source": [
    "from coffea import hist\n",
    "h = hist.Hist(\"Events\", hist.Cat(\"dataset\", \"samples\"), hist.Bin('DeltaEta_j1_j2', '$\\Delta \\eta[j_{1}, j_{2}]$', 50, 0, 8.5))\n",
    "h.fill(dataset = 'ggH', DeltaEta_j1_j2 = data_cuts_os_gg.DeltaEta_j1_j2.to_numpy(), weight=data_cuts_os_gg.weight.to_numpy())\n",
    "h.fill(dataset = 'VBF', DeltaEta_j1_j2 = data_cuts_os_vbf.DeltaEta_j1_j2.to_numpy(), weight=data_cuts_os_vbf.weight.to_numpy())\n",
    "from matplotlib.pyplot import figure\n",
    "fig = figure(figsize=(8, 5), dpi=100)\n",
    "ax = hist.plot1d(h)\n",
    "ax.set_yscale('log')\n",
    "ax.set_ylim(1, max(h.sum(\"dataset\").values()[()])*1.5)\n",
    "ax.minorticks_on()\n",
    "ax.yaxis.set_tick_params(which='minor', bottom=False)\n",
    "fig.savefig(f'../plots/ARCchecks/etajj_gg_vbf.png')"
   ]
  },
  {
   "cell_type": "code",
   "execution_count": 26,
   "metadata": {},
   "outputs": [
    {
     "data": {
      "image/png": "[encoded data removed]",
      "text/plain": [
       "<Figure size 800x500 with 1 Axes>"
      ]
     },
     "metadata": {
      "needs_background": "light"
     },
     "output_type": "display_data"
    }
   ],
   "source": [
    "from coffea import hist\n",
    "h = hist.Hist(\"Events\", hist.Cat(\"dataset\", \"samples\"), hist.Bin('j1_j2_mass', '$m_{j_{1}j_{2}}$ [GeV]', 50, 0, 2000))\n",
    "h.fill(dataset = 'ggH', j1_j2_mass = data_cuts_os_gg.j1_j2_mass.to_numpy(), weight=data_cuts_os_gg.weight.to_numpy())\n",
    "h.fill(dataset = 'VBF', j1_j2_mass = data_cuts_os_vbf.j1_j2_mass.to_numpy(), weight=data_cuts_os_vbf.weight.to_numpy())\n",
    "from matplotlib.pyplot import figure\n",
    "fig = figure(figsize=(8, 5), dpi=100)\n",
    "ax = hist.plot1d(h)\n",
    "ax.set_yscale('log')\n",
    "ax.set_ylim(1, max(h.sum(\"dataset\").values()[()])*1.5)\n",
    "ax.minorticks_on()\n",
    "ax.yaxis.set_tick_params(which='minor', bottom=False)\n",
    "fig.savefig(f'../plots/ARCchecks/mjj_gg_vbf.png')"
   ]
  },
  {
   "cell_type": "code",
   "execution_count": 27,
   "metadata": {},
   "outputs": [
    {
     "data": {
      "image/png": "[encoded data removed]",
      "text/plain": [
       "<Figure size 800x500 with 2 Axes>"
      ]
     },
     "metadata": {
      "needs_background": "light"
     },
     "output_type": "display_data"
    }
   ],
   "source": [
    "from coffea import hist\n",
    "import matplotlib.pyplot as plt\n",
    "h = hist.Hist(\"Events (ggH)\", hist.Cat(\"dataset\", \"samples\"), hist.Bin('DeltaEta_j1_j2', '$\\Delta \\eta[j_{1}, j_{2}]$', 50, 0, 8.5), hist.Bin('j1_j2_mass', '$m_{j_{1}j_{2}}$ [GeV]', 50, 0, 2000))\n",
    "h.fill(dataset = 'ggH', DeltaEta_j1_j2 = data_cuts_os_gg.DeltaEta_j1_j2.to_numpy(), j1_j2_mass = data_cuts_os_gg.j1_j2_mass.to_numpy(), weight=data_cuts_os_gg.weight.to_numpy())\n",
    "#h.fill(dataset = 'VBF', DeltaEta_j1_j2 = data_cuts_os_vbf.DeltaEta_j1_j2.to_numpy(), j1_j2_mass = data_cuts_os_vbf.j1_j2_mass.to_numpy(), weight=data_cuts_os_vbf.weight.to_numpy())\n",
    "from matplotlib.pyplot import figure\n",
    "fig, ax = plt.subplots(figsize=(8, 5), dpi=100)\n",
    "hist.plot2d(h.integrate('dataset'), xaxis='j1_j2_mass', ax=ax)\n",
    "ax.minorticks_on()\n",
    "fig.savefig(f'../plots/ARCchecks/gg_2d.png')"
   ]
  },
  {
   "cell_type": "code",
   "execution_count": 28,
   "metadata": {},
   "outputs": [
    {
     "data": {
      "image/png": "[encoded data removed]",
      "text/plain": [
       "<Figure size 800x500 with 2 Axes>"
      ]
     },
     "metadata": {
      "needs_background": "light"
     },
     "output_type": "display_data"
    }
   ],
   "source": [
    "from coffea import hist\n",
    "import matplotlib.pyplot as plt\n",
    "h = hist.Hist(\"Events (VBF)\", hist.Cat(\"dataset\", \"samples\"), hist.Bin('DeltaEta_j1_j2', '$\\Delta \\eta[j_{1}, j_{2}]$', 50, 0, 8.5), hist.Bin('j1_j2_mass', '$m_{j_{1}j_{2}}$ [GeV]', 50, 0, 2000))\n",
    "#h.fill(dataset = 'ggH', DeltaEta_j1_j2 = data_cuts_os_gg.DeltaEta_j1_j2.to_numpy(), j1_j2_mass = data_cuts_os_gg.j1_j2_mass.to_numpy(), weight=data_cuts_os_gg.weight.to_numpy())\n",
    "h.fill(dataset = 'VBF', DeltaEta_j1_j2 = data_cuts_os_vbf.DeltaEta_j1_j2.to_numpy(), j1_j2_mass = data_cuts_os_vbf.j1_j2_mass.to_numpy(), weight=data_cuts_os_vbf.weight.to_numpy())\n",
    "from matplotlib.pyplot import figure\n",
    "fig, ax = plt.subplots(figsize=(8, 5), dpi=100)\n",
    "hist.plot2d(h.integrate('dataset'), xaxis='j1_j2_mass', ax=ax)\n",
    "ax.minorticks_on()\n",
    "fig.savefig(f'../plots/ARCchecks/vbf_2d.png')"
   ]
  },
  {
   "cell_type": "code",
   "execution_count": 49,
   "metadata": {},
   "outputs": [],
   "source": [
    "bkg = ['data', 'GluGlu_LFV_HToEMu_M125', 'VBF_LFV_HToEMu_M125', 'TTTo2L2Nu', 'ZZ_TuneCP5', 'WZ_TuneCP5', 'WW_TuneCP5', 'DYJetsToLL_M-50', 'DYJetsToLL_M-10to50', 'WGToLNuG_TuneCP5', 'TTToSemiLeptonic', 'TTToHadronic', 'ST_tW_antitop_5f_inclusiveDecays', 'ST_tW_top_5f_inclusiveDecays', 'ST_t-channel_antitop_4f_InclusiveDecays', 'ST_t-channel_top_4f_InclusiveDecays', 'EWKZ2Jets_ZToLL', 'EWKZ2Jets_ZToNuNu', 'EWKWMinus2Jets', 'EWKWPlus2Jets', 'GluGluHToTauTau', 'VBFHToTauTau', 'WminusHToTauTau', 'WplusHToTauTau', 'GluGluHToWWTo2L2Nu', 'VBFHToWWTo2L2Nu', 'ZHToTauTau', 'WJetsToLNu_TuneCP5']\n",
    "print([bkg.index(i) for i in bkg if 'HToTauTau' in i])\n",
    "print([bkg.index(i) for i in bkg if 'HToWW' in i])\n",
    "subsubsub = data_cuts_os[data_cuts_os.e_m_Mass.gt(110) & data_cuts_os.e_m_Mass.lt(160)  & data_cuts_os.mtrigger.lt(1) & data_cuts_os.ept.gt(24)].weight.sum()"
   ]
  },
  {
   "cell_type": "code",
   "execution_count": 57,
   "metadata": {},
   "outputs": [
    {
     "data": {
      "image/png": "[encoded data removed]",
      "text/plain": [
       "<Figure size 800x500 with 1 Axes>"
      ]
     },
     "metadata": {
      "needs_background": "light"
     },
     "output_type": "display_data"
    }
   ],
   "source": [
    "from coffea import hist\n",
    "h = hist.Hist(\"Events\", hist.Cat(\"dataset\", \"samples\"), hist.Bin('e_m_Mass', '$m_{e\\mu}$ [GeV]', 40, 0, 200))\n",
    "h.fill(dataset = 'HtoTauTau (GG)', e_m_Mass = data_cuts_os[data_cuts_os['sample'].isin([20, 21, 22, 23, 26])].e_m_Mass.to_numpy(), weight=data_cuts_os[data_cuts_os['sample'].isin([20, 21, 22, 23, 26])].weight.to_numpy())\n",
    "h.fill(dataset = 'HtoWW', e_m_Mass = data_cuts_os[data_cuts_os['sample'].isin([24,25])].e_m_Mass.to_numpy(), weight=data_cuts_os[data_cuts_os['sample'].isin([24,25])].weight.to_numpy())\n",
    "from matplotlib.pyplot import figure\n",
    "figure(figsize=(8, 5), dpi=100)\n",
    "a = hist.plot1d(h)"
   ]
  },
  {
   "cell_type": "code",
   "execution_count": 20,
   "metadata": {},
   "outputs": [
    {
     "data": {
      "text/plain": [
       "count    701140.000000\n",
       "mean         24.162597\n",
       "std           1.393341\n",
       "min          20.000000\n",
       "25%          24.000000\n",
       "50%          25.000000\n",
       "75%          25.000000\n",
       "max          26.000000\n",
       "Name: sample, dtype: float64"
      ]
     },
     "execution_count": 20,
     "metadata": {},
     "output_type": "execute_result"
    }
   ],
   "source": [
    "data_cuts_os[data_cuts_os.mtrigger.eq(1)]['sample'].describe()"
   ]
  },
  {
   "cell_type": "code",
   "execution_count": 11,
   "metadata": {},
   "outputs": [
    {
     "data": {
      "text/plain": [
       "1777.229677707188"
      ]
     },
     "execution_count": 11,
     "metadata": {},
     "output_type": "execute_result"
    }
   ],
   "source": [
    "data_cuts_os[data_cuts_os.mtrigger.eq(1)].weight.sum()"
   ]
  },
  {
   "cell_type": "code",
   "execution_count": 9,
   "metadata": {},
   "outputs": [
    {
     "data": {
      "text/plain": [
       "3.610694918431994"
      ]
     },
     "execution_count": 9,
     "metadata": {},
     "output_type": "execute_result"
    }
   ],
   "source": [
    "data_cuts_os[data_cuts_os.mtrigger.eq(1)].weight.sum()"
   ]
  },
  {
   "cell_type": "code",
   "execution_count": 116,
   "metadata": {},
   "outputs": [],
   "source": [
    "samples = ['data', 'GluGlu_LFV_HToEMu_M125', 'VBF_LFV_HToEMu_M125', 'TTTo2L2Nu', 'ZZ_TuneCP5', 'WZ_TuneCP5', 'WW_TuneCP5', 'DYJetsToLL_M-50', 'DYJetsToLL_M-10to50', 'WGToLNuG_TuneCP5', 'TTToSemiLeptonic', 'TTToHadronic', 'ST_tW_antitop_5f_inclusiveDecays', 'ST_tW_top_5f_inclusiveDecays', 'ST_t-channel_antitop_4f_InclusiveDecays', 'ST_t-channel_top_4f_InclusiveDecays', 'EWKZ2Jets_ZToLL', 'EWKZ2Jets_ZToNuNu', 'EWKWMinus2Jets', 'EWKWPlus2Jets', 'GluGluHToTauTau', 'VBFHToTauTau', 'WminusHToTauTau', 'WplusHToTauTau', 'GluGluHToWWTo2L2Nu', 'VBFHToWWTo2L2Nu', 'ZHToTauTau', 'WJetsToLNu_TuneCP5']\n",
    "[samples.index(i) for i in samples if 'TT' in i]\n",
    "data_cuts_os.loc[((data_cuts_os['sample']==3) | (data_cuts_os['sample']==10) | (data_cuts_os['sample']==11)), ['weight']] *= 1.0711607711238926"
   ]
  },
  {
   "cell_type": "code",
   "execution_count": 5,
   "metadata": {},
   "outputs": [],
   "source": [
    "data_cuts_os = pd.concat([data_gg, data_vbf])"
   ]
  },
  {
   "cell_type": "code",
   "execution_count": 8,
   "metadata": {},
   "outputs": [
    {
     "name": "stdout",
     "output_type": "stream",
     "text": [
      "20 15 0.877 149 28650\n",
      "25 15 0.878 146 27448\n",
      "20 20 0.88 147 27901\n",
      "25 20 0.881 144 26700\n"
     ]
    }
   ],
   "source": [
    "data_m = data_cuts_os[data_cuts_os.e_m_Mass.gt(100)&data_cuts_os.e_m_Mass.lt(120)]\n",
    "mpts = [15, 20]\n",
    "epts = [20, 25]\n",
    "for mpt in mpts:\n",
    "    for ept in epts:\n",
    "        bkg = data_m[data_m.ept.gt(ept) & data_m.mpt.gt(mpt) & data_m.label.eq(0)]['weight'].sum()\n",
    "        sig = data_m[data_m.ept.gt(ept) & data_m.mpt.gt(mpt) & data_m.label.eq(110)]['weight'].sum()\n",
    "        print(ept, mpt, AMS(sig*0.0059, bkg), round(sig*0.0059), round(bkg))"
   ]
  },
  {
   "cell_type": "code",
   "execution_count": 9,
   "metadata": {},
   "outputs": [
    {
     "name": "stdout",
     "output_type": "stream",
     "text": [
      "20 15 0.743 89 14332\n",
      "25 15 0.746 89 14049\n",
      "20 20 0.746 89 14153\n",
      "25 20 0.749 88 13870\n"
     ]
    }
   ],
   "source": [
    "data_m = data_cuts_os[data_cuts_os.e_m_Mass.gt(150)&data_cuts_os.e_m_Mass.lt(170)]\n",
    "mpts = [15, 20]\n",
    "epts = [20, 25]\n",
    "for mpt in mpts:\n",
    "    for ept in epts:\n",
    "        bkg = data_m[data_m.ept.gt(ept) & data_m.mpt.gt(mpt) & data_m.label.eq(0)]['weight'].sum()\n",
    "        sig = data_m[data_m.ept.gt(ept) & data_m.mpt.gt(mpt) & data_m.label.eq(160)]['weight'].sum()\n",
    "        print(ept, mpt, AMS(sig*0.0059, bkg), round(sig*0.0059), round(bkg))"
   ]
  },
  {
   "cell_type": "code",
   "execution_count": 10,
   "metadata": {},
   "outputs": [
    {
     "name": "stdout",
     "output_type": "stream",
     "text": [
      "20 15 0.94 144 23439\n",
      "25 15 0.943 142 22704\n",
      "20 20 0.943 143 22959\n",
      "25 20 0.946 141 22224\n"
     ]
    }
   ],
   "source": [
    "data_m = data_cuts_os[data_cuts_os.e_m_Mass.gt(115)&data_cuts_os.e_m_Mass.lt(135)]\n",
    "mpts = [15, 20]\n",
    "epts = [20, 25]\n",
    "for mpt in mpts:\n",
    "    for ept in epts:\n",
    "        bkg = data_m[data_m.ept.gt(ept) & data_m.mpt.gt(mpt) & data_m.label.eq(0)]['weight'].sum()\n",
    "        sig = data_m[data_m.ept.gt(ept) & data_m.mpt.gt(mpt) & data_m.label.eq(1)]['weight'].sum()\n",
    "        print(ept, mpt, AMS(sig*0.0059, bkg), round(sig*0.0059), round(bkg))"
   ]
  },
  {
   "cell_type": "code",
   "execution_count": 107,
   "metadata": {},
   "outputs": [
    {
     "name": "stdout",
     "output_type": "stream",
     "text": [
      "bkg 20100.653502799418 23454.67450137778 7.701\n",
      "sig 136.68773354052857 149.74823727980936 4.56\n",
      "m 0.963\n",
      "em 0.977\n",
      "0.722\n"
     ]
    }
   ],
   "source": [
    "data_em = data_cuts_os[(data_cuts_os.etrigger.eq(1) & data_cuts_os.mpt.gt(15))|(data_cuts_os.mtrigger.eq(1) & data_cuts_os.ept.gt(24))]\n",
    "data_m = data_cuts_os[data_cuts_os.mtrigger.eq(1) & data_cuts_os.ept.gt(24)]\n",
    "totalbkg_m, totalbkg_em = data_m[data_m.label.eq(0)]['weight'].sum(), data_em[data_em.label.eq(0)]['weight'].sum()\n",
    "totalsig_m, totalsig_em = data_m[data_m.label.eq(1)]['weight'].sum(), data_em[data_em.label.eq(1)]['weight'].sum()\n",
    "print('bkg', totalbkg_m, totalbkg_em, percentage(totalbkg_m, totalbkg_em))\n",
    "print('sig', totalsig_m*0.0059, totalsig_em*0.0059, percentage(totalsig_m, totalsig_em))\n",
    "print('m', AMS(totalsig_m*0.0059, totalbkg_m))\n",
    "print('em', AMS(totalsig_em*0.0059, totalbkg_em))\n",
    "print(percentage(AMS(totalsig_m*0.0059, totalbkg_m), AMS(totalsig_em*0.0059, totalbkg_em)))"
   ]
  },
  {
   "cell_type": "code",
   "execution_count": null,
   "metadata": {},
   "outputs": [],
   "source": []
  }
 ],
 "metadata": {
  "kernelspec": {
   "display_name": "my-coffea-env",
   "language": "python",
   "name": "my-coffea-env"
  },
  "language_info": {
   "codemirror_mode": {
    "name": "ipython",
    "version": 3
   },
   "file_extension": ".py",
   "mimetype": "text/x-python",
   "name": "python",
   "nbconvert_exporter": "python",
   "pygments_lexer": "ipython3",
   "version": "3.9.13"
  }
 },
 "nbformat": 4,
 "nbformat_minor": 2
}
