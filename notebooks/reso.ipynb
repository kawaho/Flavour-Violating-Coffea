{
 "cells": [
  {
   "cell_type": "code",
   "execution_count": 1,
   "metadata": {},
   "outputs": [
    {
     "name": "stdout",
     "output_type": "stream",
     "text": [
      "Processing 2016preVFP\n"
     ]
    }
   ],
   "source": [
    "from coffea.util import load\n",
    "import numpy as np\n",
    "import pandas as pd\n",
    "import glob, os, json, argparse\n",
    "years = ['2016preVFP']#, '2017', '2016postVFP','2018']\n",
    "var_dict = {}\n",
    "for year in years:\n",
    "    print(f'Processing {year}')\n",
    "    for subsample in ['signal']:\n",
    "    #for subsample in ['signal','diboson','tt','st','dy','wjets','higgs','ewk']: #'data',\n",
    "        result = load(f\"../results/{year}/makeDF/output_testv9_{subsample}.coffea\")\n",
    "        if isinstance(result,tuple):\n",
    "            result = result[0]\n",
    "        for varName in result:\n",
    "            if varName in var_dict:\n",
    "                var_dict[varName] = np.append(var_dict[varName],result[varName].value)\n",
    "            else:\n",
    "                var_dict[varName] = result[varName].value\n",
    "df = pd.DataFrame(var_dict)"
   ]
  },
  {
   "cell_type": "code",
   "execution_count": 2,
   "metadata": {},
   "outputs": [],
   "source": [
    "df = df[(df['e_m_Mass_reso']!=0)]"
   ]
  },
  {
   "cell_type": "code",
   "execution_count": 8,
   "metadata": {},
   "outputs": [
    {
     "name": "stdout",
     "output_type": "stream",
     "text": [
      "[ 0.50567609  1.03446453  1.31908255  1.59665188  1.97636984 21.57709068]\n"
     ]
    },
    {
     "data": {
      "text/plain": [
       "<AxesSubplot:xlabel='$m_{e \\\\mu}$', ylabel='A.U.'>"
      ]
     },
     "execution_count": 8,
     "metadata": {},
     "output_type": "execute_result"
    },
    {
     "data": {
      "image/png": "[encoded data removed]",
      "text/plain": [
       "<Figure size 432x288 with 1 Axes>"
      ]
     },
     "metadata": {
      "needs_background": "light"
     },
     "output_type": "display_data"
    }
   ],
   "source": [
    "import coffea.hist as hist\n",
    "from statsmodels.stats.weightstats import DescrStatsW\n",
    "histo = hist.Hist(\"A.U.\", hist.Bin(\"e_m_Mass\", \"$m_{e \\mu}$\", 50, 110, 140), hist.Cat(\"Range\", \"Range\"))\n",
    "wq = DescrStatsW(data=df['e_m_Mass_reso'], weights=df['weight'])\n",
    "h_quan = hist.Hist('A.U.', hist.Bin('e_m_Mass', '$m_{e\\mu}$ [GeV]', 25, 110, 135), hist.Cat(\"sample\", \"sample\"))\n",
    "reso = wq.quantile(probs=np.array([0, 0.20, 0.40, 0.60, 0.80, 1]), return_pandas=False)\n",
    "print(reso)\n",
    "for i in range(len(reso)-1):\n",
    "    histo.fill(e_m_Mass=df[(df['e_m_Mass_reso']>reso[i]) & (df['e_m_Mass_reso']<reso[i+1])]['e_m_Mass'].to_numpy(), weight=df[(df['e_m_Mass_reso']>reso[i]) & (df['e_m_Mass_reso']<reso[i+1])]['weight'].to_numpy(), Range=f'{reso[i]:.1f}<$'+'\\delta m_{e\\mu}$'+f'<{reso[i+1]:.1f}')\n",
    "hist.plot1d(histo, density=True)"
   ]
  },
  {
   "cell_type": "code",
   "execution_count": 103,
   "metadata": {},
   "outputs": [
    {
     "name": "stdout",
     "output_type": "stream",
     "text": [
      "1.9958657944010092 0.03606189224251066 0.0030829913167666886\n"
     ]
    }
   ],
   "source": [
    "df0_ogweight = df[0]['weight'].sum()/ (df[0]['weight']/df[0]['e_m_Mass_reso']).sum()\n",
    "df1_ogweight = df[1]['weight'].sum()/ (df[1]['weight']/df[1]['e_m_Mass_reso']).sum()\n",
    "df2_ogweight = df[2]['weight'].sum()/ (df[2]['weight']/df[2]['e_m_Mass_reso']).sum()\n",
    "print(df0_ogweight, df1_ogweight, df2_ogweight)"
   ]
  },
  {
   "cell_type": "code",
   "execution_count": 15,
   "metadata": {},
   "outputs": [
    {
     "data": {
      "text/plain": [
       "<AxesSubplot:xlabel='$m_{e \\\\mu}$', ylabel='A.U.'>"
      ]
     },
     "execution_count": 15,
     "metadata": {},
     "output_type": "execute_result"
    },
    {
     "data": {
      "image/png": "[encoded data removed]",
      "text/plain": [
       "<Figure size 432x288 with 1 Axes>"
      ]
     },
     "metadata": {
      "needs_background": "light"
     },
     "output_type": "display_data"
    }
   ],
   "source": [
    "import coffea.hist as hist\n",
    "histo = hist.Hist(\"A.U.\", hist.Bin(\"e_m_Mass\", \"$m_{e \\mu}$\", 60, 110, 140), hist.Cat(\"Scale\", \"Weight Scale\"))\n",
    "\n",
    "histo.fill(e_m_Mass=df[0]['e_m_Mass'].to_numpy(), Scale='nomial', weight=df[0]['weight'].to_numpy())\n",
    "histo.fill(e_m_Mass=df[1]['e_m_Mass'].to_numpy(), Scale='nomial', weight=df[1]['weight'].to_numpy())\n",
    "histo.fill(e_m_Mass=df[2]['e_m_Mass'].to_numpy(), Scale='nomial', weight=df[2]['weight'].to_numpy())\n",
    "\n",
    "#histo.fill(e_m_Mass=(df[0]['e_m_Mass'].to_numpy()-df[0]['e_m_Mass'].mean())/df[0]['e_m_Mass'].std()+df[0]['e_m_Mass'].mean(), Scale='smear', weight=df[0]['weight'])\n",
    "#histo.fill(e_m_Mass=(df[1]['e_m_Mass'].to_numpy()-df[1]['e_m_Mass'].mean())/df[1]['e_m_Mass'].std()+df[1]['e_m_Mass'].mean(), Scale='smear', weight=df[1]['weight'])#\n",
    "#histo.fill(e_m_Mass=(df[2]['e_m_Mass'].to_numpy()-df[2]['e_m_Mass'].mean())/df[2]['e_m_Mass'].std()+df[2]['e_m_Mass'].mean(), Scale='smear', weight=df[2]['weight'])\n",
    "\n",
    "#histo.fill(e_m_Mass=df[0]['e_m_Mass'].to_numpy(), Scale='$\\delta m^{-2}_{e\\mu}$', weight=(df[0]['weight']/df[0]['e_m_Mass_reso'].pow(2)).to_numpy())\n",
    "#histo.fill(e_m_Mass=df[1]['e_m_Mass'].to_numpy(), Scale='$\\delta m^{-2}_{e\\mu}$', weight=(df[1]['weight']/df[1]['e_m_Mass_reso'].pow(2)).to_numpy())\n",
    "#histo.fill(e_m_Mass=df[2]['e_m_Mass'].to_numpy(), Scale='$\\delta m^{-2}_{e\\mu}$', weight=(df[2]['weight']/df[2]['e_m_Mass_reso'].pow(2)).to_numpy())\n",
    "\n",
    "#histo.fill(e_m_Mass=df[0]['e_m_Mass'].to_numpy(), Scale='$\\delta m^{-1}_{e\\mu} \\cdot m_{e\\mu}$', weight=(df[0]['weight']*df[0]['e_m_Mass']/df[0]['e_m_Mass_reso']).to_numpy())\n",
    "#histo.fill(e_m_Mass=df[1]['e_m_Mass'].to_numpy(), Scale='$\\delta m^{-1}_{e\\mu} \\cdot m_{e\\mu}$', weight=(df[1]['weight']*df[1]['e_m_Mass']/df[1]['e_m_Mass_reso']).to_numpy())\n",
    "#histo.fill(e_m_Mass=df[2]['e_m_Mass'].to_numpy(), Scale='$\\delta m^{-1}_{e\\mu} \\cdot m_{e\\mu}$', weight=(df[2]['weight']*df[2]['e_m_Mass']/df[2]['e_m_Mass_reso']).to_numpy())\n",
    "\n",
    "histo.fill(e_m_Mass=df[0]['e_m_Mass'].to_numpy(), Scale='$\\delta m^{-1}_{e\\mu}$', weight=(df[0]['weight']/df[0]['e_m_Mass_reso']).to_numpy())\n",
    "histo.fill(e_m_Mass=df[1]['e_m_Mass'].to_numpy(), Scale='$\\delta m^{-1}_{e\\mu}$', weight=(df[1]['weight']/df[1]['e_m_Mass_reso']).to_numpy())\n",
    "histo.fill(e_m_Mass=df[2]['e_m_Mass'].to_numpy(), Scale='$\\delta m^{-1}_{e\\mu}$', weight=(df[2]['weight']/df[2]['e_m_Mass_reso']).to_numpy())\n",
    "\n",
    "histo.fill(e_m_Mass=df[0]['e_m_Mass'].to_numpy(), Scale='$exp^{-1}(\\delta m_{e\\mu})$', weight=(df[0]['weight']/np.exp(df[0]['e_m_Mass_reso'])).to_numpy())\n",
    "histo.fill(e_m_Mass=df[1]['e_m_Mass'].to_numpy(), Scale='$exp^{-1}(\\delta m_{e\\mu})$', weight=(df[1]['weight']/np.exp(df[1]['e_m_Mass_reso'])).to_numpy())\n",
    "histo.fill(e_m_Mass=df[2]['e_m_Mass'].to_numpy(), Scale='$exp^{-1}(\\delta m_{e\\mu})$', weight=(df[2]['weight']/np.exp(df[2]['e_m_Mass_reso'])).to_numpy())\n",
    "\n",
    "#histo.fill(e_m_Mass=df[0]['e_m_Mass'].to_numpy(), Scale='$exp^{-1}(\\delta m_{e\\mu})$', weight=(df[0]['weight']/np.exp(df[0]['e_m_Mass_ereso'])).to_numpy())\n",
    "#histo.fill(e_m_Mass=df[1]['e_m_Mass'].to_numpy(), Scale='$exp^{-1}(\\delta m_{e\\mu})$', weight=(df[1]['weight']/np.exp(df[1]['e_m_Mass_ereso'])).to_numpy())\n",
    "#histo.fill(e_m_Mass=df[2]['e_m_Mass'].to_numpy(), Scale='$exp^{-1}(\\delta m_{e\\mu})$', weight=(df[2]['weight']/np.exp(df[2]['e_m_Mass_ereso'])).to_numpy())\n",
    "\n",
    "\n",
    "#histo.fill(e_m_Mass=df[0]['e_m_Mass'].to_numpy(), Scale='$\\delta exp^{-1}(m_{e\\mu}-2)$', weight=(df[0]['weight']/np.exp(df[0]['e_m_Mass_reso']**2)).to_numpy())\n",
    "#histo.fill(e_m_Mass=df[1]['e_m_Mass'].to_numpy(), Scale='$\\delta exp^{-1}(m_{e\\mu}-2)$', weight=(df[1]['weight']/np.exp(df[1]['e_m_Mass_reso']**2)).to_numpy())\n",
    "#histo.fill(e_m_Mass=df[2]['e_m_Mass'].to_numpy(), Scale='$\\delta exp^{-1}(m_{e\\mu}-2)$', weight=(df[2]['weight']/np.exp(df[2]['e_m_Mass_reso']**2)).to_numpy())\n",
    "#histo.fill(e_m_Mass=df[0]['e_m_Mass'].to_numpy(), Scale='$\\delta exp^{-1}(m_{e\\mu}^{2})$', weight=(df[0]['weight']/np.exp(np.exp(df[0]['e_m_Mass_reso']))).to_numpy())\n",
    "#histo.fill(e_m_Mass=df[1]['e_m_Mass'].to_numpy(), Scale='$\\delta exp^{-1}(m_{e\\mu}^{2})$', weight=(df[1]['weight']/np.exp(np.exp(df[1]['e_m_Mass_reso']))).to_numpy())\n",
    "#histo.fill(e_m_Mass=df[2]['e_m_Mass'].to_numpy(), Scale='$\\delta exp^{-1}(m_{e\\mu}^{2})$', weight=(df[2]['weight']/np.exp(np.exp(df[2]['e_m_Mass_reso']))).to_numpy())\n",
    "hist.plot1d(histo, density=True)"
   ]
  },
  {
   "cell_type": "code",
   "execution_count": 208,
   "metadata": {},
   "outputs": [
    {
     "data": {
      "text/plain": [
       "0"
      ]
     },
     "execution_count": 208,
     "metadata": {},
     "output_type": "execute_result"
    }
   ],
   "source": [
    "(df[1]['m_deltapT']==0).sum()"
   ]
  },
  {
   "cell_type": "code",
   "execution_count": 4,
   "metadata": {},
   "outputs": [
    {
     "data": {
      "text/plain": [
       "<AxesSubplot:xlabel='$\\\\delta m_{e\\\\mu}$', ylabel='Events'>"
      ]
     },
     "execution_count": 4,
     "metadata": {},
     "output_type": "execute_result"
    },
    {
     "data": {
      "image/png": "[encoded data removed]",
      "text/plain": [
       "<Figure size 432x288 with 1 Axes>"
      ]
     },
     "metadata": {
      "needs_background": "light"
     },
     "output_type": "display_data"
    }
   ],
   "source": [
    "import coffea.hist as hist\n",
    "histo = hist.Hist(\"Events\", hist.Bin(\"e_m_Mass_reso\", \"$\\delta m_{e\\mu}$\", 50, 0, 1))\n",
    "histo.fill(e_m_Mass_reso=df[0]['lepCos'].to_numpy(), weight=df[0]['weight'].to_numpy())\n",
    "histo.fill(e_m_Mass_reso=df[1]['lepCos'].to_numpy(), weight=df[1]['weight'].to_numpy())\n",
    "histo.fill(e_m_Mass_reso=df[2]['lepCos'].to_numpy(), weight=df[2]['weight'].to_numpy())\n",
    "hist.plot1d(histo)"
   ]
  },
  {
   "cell_type": "code",
   "execution_count": 5,
   "metadata": {},
   "outputs": [
    {
     "data": {
      "text/plain": [
       "<AxesSubplot:xlabel='$\\\\delta m_{e\\\\mu}$', ylabel='Events'>"
      ]
     },
     "execution_count": 5,
     "metadata": {},
     "output_type": "execute_result"
    },
    {
     "data": {
      "image/png": "[encoded data removed]",
      "text/plain": [
       "<Figure size 432x288 with 1 Axes>"
      ]
     },
     "metadata": {
      "needs_background": "light"
     },
     "output_type": "display_data"
    }
   ],
   "source": [
    "import coffea.hist as hist\n",
    "histo = hist.Hist(\"Events\", hist.Bin(\"e_m_Mass_reso\", \"$\\delta m_{e\\mu}$\", 50, 0, 5))\n",
    "histo.fill(e_m_Mass_reso=df[0]['e_deltaE'].to_numpy(), weight=df[0]['weight'].to_numpy())\n",
    "histo.fill(e_m_Mass_reso=df[1]['e_deltaE'].to_numpy(), weight=df[1]['weight'].to_numpy())\n",
    "histo.fill(e_m_Mass_reso=df[2]['e_deltaE'].to_numpy(), weight=df[2]['weight'].to_numpy())\n",
    "hist.plot1d(histo)"
   ]
  },
  {
   "cell_type": "code",
   "execution_count": 6,
   "metadata": {},
   "outputs": [
    {
     "data": {
      "text/plain": [
       "<AxesSubplot:xlabel='$\\\\delta m_{e\\\\mu}$', ylabel='Events'>"
      ]
     },
     "execution_count": 6,
     "metadata": {},
     "output_type": "execute_result"
    },
    {
     "data": {
      "image/png": "[encoded data removed]",
      "text/plain": [
       "<Figure size 432x288 with 1 Axes>"
      ]
     },
     "metadata": {
      "needs_background": "light"
     },
     "output_type": "display_data"
    }
   ],
   "source": [
    "import coffea.hist as hist\n",
    "histo = hist.Hist(\"Events\", hist.Bin(\"e_m_Mass_reso\", \"$\\delta m_{e\\mu}$\", 50, 0, 5))\n",
    "histo.fill(e_m_Mass_reso=df[0]['m_deltapT'].to_numpy(), weight=df[0]['weight'].to_numpy())\n",
    "histo.fill(e_m_Mass_reso=df[1]['m_deltapT'].to_numpy(), weight=df[1]['weight'].to_numpy())\n",
    "histo.fill(e_m_Mass_reso=df[2]['m_deltapT'].to_numpy(), weight=df[2]['weight'].to_numpy())\n",
    "hist.plot1d(histo)"
   ]
  },
  {
   "cell_type": "code",
   "execution_count": 14,
   "metadata": {},
   "outputs": [
    {
     "data": {
      "text/plain": [
       "<AxesSubplot:xlabel='$\\\\delta m_{e\\\\mu}$', ylabel='Events'>"
      ]
     },
     "execution_count": 14,
     "metadata": {},
     "output_type": "execute_result"
    },
    {
     "data": {
      "image/png": "[encoded data removed]",
      "text/plain": [
       "<Figure size 432x288 with 1 Axes>"
      ]
     },
     "metadata": {
      "needs_background": "light"
     },
     "output_type": "display_data"
    }
   ],
   "source": [
    "import coffea.hist as hist\n",
    "histo = hist.Hist(\"Events\", hist.Bin(\"e_m_Mass_reso\", \"$\\delta m_{e\\mu}$\", 500, 0, 5))\n",
    "histo.fill(e_m_Mass_reso=(df[0]['e_m_Mass_reso']/(1-df[0]['lepCos'])).to_numpy(), weight=df[0]['weight'])\n",
    "histo.fill(e_m_Mass_reso=(df[1]['e_m_Mass_reso']/(1-df[1]['lepCos'])).to_numpy(), weight=df[1]['weight'])\n",
    "histo.fill(e_m_Mass_reso=(df[2]['e_m_Mass_reso']/(1-df[2]['lepCos'])).to_numpy(), weight=df[2]['weight'])\n",
    "hist.plot1d(histo)"
   ]
  },
  {
   "cell_type": "code",
   "execution_count": 8,
   "metadata": {},
   "outputs": [
    {
     "data": {
      "text/plain": [
       "<AxesSubplot:xlabel='$\\\\delta m_{e\\\\mu}$', ylabel='Events'>"
      ]
     },
     "execution_count": 8,
     "metadata": {},
     "output_type": "execute_result"
    },
    {
     "data": {
      "image/png": "[encoded data removed]",
      "text/plain": [
       "<Figure size 432x288 with 1 Axes>"
      ]
     },
     "metadata": {
      "needs_background": "light"
     },
     "output_type": "display_data"
    }
   ],
   "source": [
    "import coffea.hist as hist\n",
    "histo = hist.Hist(\"Events\", hist.Bin(\"e_m_Mass_reso\", \"$\\delta m_{e\\mu}$\", 50, 0, 5))\n",
    "histo.fill(e_m_Mass_reso=df[0]['e_m_Mass_mreso'].to_numpy(), weight=df[0]['weight'])\n",
    "histo.fill(e_m_Mass_reso=df[1]['e_m_Mass_mreso'].to_numpy(), weight=df[1]['weight'])\n",
    "histo.fill(e_m_Mass_reso=df[2]['e_m_Mass_mreso'].to_numpy(), weight=df[2]['weight'])\n",
    "hist.plot1d(histo)"
   ]
  },
  {
   "cell_type": "code",
   "execution_count": 9,
   "metadata": {},
   "outputs": [
    {
     "data": {
      "text/plain": [
       "<AxesSubplot:xlabel='$\\\\delta m_{e\\\\mu}$', ylabel='Events'>"
      ]
     },
     "execution_count": 9,
     "metadata": {},
     "output_type": "execute_result"
    },
    {
     "data": {
      "image/png": "[encoded data removed]",
      "text/plain": [
       "<Figure size 432x288 with 1 Axes>"
      ]
     },
     "metadata": {
      "needs_background": "light"
     },
     "output_type": "display_data"
    }
   ],
   "source": [
    "import coffea.hist as hist\n",
    "histo = hist.Hist(\"Events\", hist.Bin(\"e_m_Mass_reso\", \"$\\delta m_{e\\mu}$\", 50, 0, 5))\n",
    "histo.fill(e_m_Mass_reso=df[0]['e_m_Mass_ereso'].to_numpy(), weight=df[0]['weight'])\n",
    "histo.fill(e_m_Mass_reso=df[1]['e_m_Mass_ereso'].to_numpy(), weight=df[1]['weight'])\n",
    "histo.fill(e_m_Mass_reso=df[2]['e_m_Mass_ereso'].to_numpy(), weight=df[2]['weight'])\n",
    "hist.plot1d(histo)"
   ]
  },
  {
   "cell_type": "code",
   "execution_count": 52,
   "metadata": {},
   "outputs": [
    {
     "data": {
      "text/html": [
       "<div>\n",
       "<style scoped>\n",
       "    .dataframe tbody tr th:only-of-type {\n",
       "        vertical-align: middle;\n",
       "    }\n",
       "\n",
       "    .dataframe tbody tr th {\n",
       "        vertical-align: top;\n",
       "    }\n",
       "\n",
       "    .dataframe thead th {\n",
       "        text-align: right;\n",
       "    }\n",
       "</style>\n",
       "<table border=\"1\" class=\"dataframe\">\n",
       "  <thead>\n",
       "    <tr style=\"text-align: right;\">\n",
       "      <th></th>\n",
       "      <th>opp_charge</th>\n",
       "      <th>is2016preVFP</th>\n",
       "      <th>is2016postVFP</th>\n",
       "      <th>is2017</th>\n",
       "      <th>is2018</th>\n",
       "      <th>sample</th>\n",
       "      <th>label</th>\n",
       "      <th>weight</th>\n",
       "      <th>njets</th>\n",
       "      <th>e_m_Mass</th>\n",
       "      <th>...</th>\n",
       "      <th>DeltaR_j2_em</th>\n",
       "      <th>DeltaEta_j1_j2</th>\n",
       "      <th>DeltaR_j1_j2</th>\n",
       "      <th>Zeppenfeld</th>\n",
       "      <th>Zeppenfeld_DeltaEta</th>\n",
       "      <th>cen</th>\n",
       "      <th>Rpt</th>\n",
       "      <th>pt_cen</th>\n",
       "      <th>pt_cen_Deltapt</th>\n",
       "      <th>Ht_had</th>\n",
       "    </tr>\n",
       "  </thead>\n",
       "  <tbody>\n",
       "  </tbody>\n",
       "</table>\n",
       "<p>0 rows × 46 columns</p>\n",
       "</div>"
      ],
      "text/plain": [
       "Empty DataFrame\n",
       "Columns: [opp_charge, is2016preVFP, is2016postVFP, is2017, is2018, sample, label, weight, njets, e_m_Mass, e_m_Mass_reso, e_m_Mass_ereso, e_m_Mass_mreso, met, eEta, mEta, mpt_Per_e_m_Mass, ept_Per_e_m_Mass, empt, emEta, DeltaEta_e_m, DeltaR_e_m, DeltaPhi_e_met, DeltaPhi_m_met, DeltaPhi_em_met, j1pt, j1Eta, DeltaEta_j1_em, DeltaR_j1_em, isVBFcat, j2pt, j2Eta, j1_j2_mass, DeltaEta_em_j1j2, DeltaR_em_j1j2, DeltaEta_j2_em, DeltaR_j2_em, DeltaEta_j1_j2, DeltaR_j1_j2, Zeppenfeld, Zeppenfeld_DeltaEta, cen, Rpt, pt_cen, pt_cen_Deltapt, Ht_had]\n",
       "Index: []\n",
       "\n",
       "[0 rows x 46 columns]"
      ]
     },
     "execution_count": 52,
     "metadata": {},
     "output_type": "execute_result"
    }
   ],
   "source": [
    "df[2][df[2]['e_m_Mass_reso']<0]"
   ]
  },
  {
   "cell_type": "code",
   "execution_count": 54,
   "metadata": {},
   "outputs": [
    {
     "data": {
      "text/plain": [
       "1325       0.109386\n",
       "1326       0.171248\n",
       "1327       0.282109\n",
       "1328       0.438480\n",
       "1329       1.318709\n",
       "            ...    \n",
       "405692     1.057756\n",
       "405693    11.019568\n",
       "405694     0.608924\n",
       "405695     1.457592\n",
       "405696     0.951335\n",
       "Name: e_m_Mass_reso, Length: 78585, dtype: float64"
      ]
     },
     "execution_count": 54,
     "metadata": {},
     "output_type": "execute_result"
    }
   ],
   "source": [
    "abs(df[0]['e_m_Mass_reso']-df[0]['e_m_Mass_reso'].mean())"
   ]
  },
  {
   "cell_type": "code",
   "execution_count": null,
   "metadata": {},
   "outputs": [],
   "source": [
    "histo = hist.Hist(\"Events\", hist.Bin(\"e_m_Mass_reso\", \"$\\delta m_{e\\mu}$\", 50, 0, 20))\n",
    "histo.fill(e_m_Mass_reso=df[0]['e_m_Mass_reso'].to_numpy(), weight=df[0]['weight'].to_numpy())\n",
    "histo.fill(e_m_Mass_reso=df[1]['e_m_Mass_reso'].to_numpy(), weight=df[1]['weight'].to_numpy())\n",
    "histo.fill(e_m_Mass_reso=df[2]['e_m_Mass_reso'].to_numpy(), weight=df[2]['weight'].to_numpy())\n",
    "hist.plot1d(histo)"
   ]
  }
 ],
 "metadata": {
  "kernelspec": {
   "display_name": "my-coffea-env",
   "language": "python",
   "name": "my-coffea-env"
  },
  "language_info": {
   "codemirror_mode": {
    "name": "ipython",
    "version": 3
   },
   "file_extension": ".py",
   "mimetype": "text/x-python",
   "name": "python",
   "nbconvert_exporter": "python",
   "pygments_lexer": "ipython3",
   "version": "3.9.7"
  }
 },
 "nbformat": 4,
 "nbformat_minor": 2
}
